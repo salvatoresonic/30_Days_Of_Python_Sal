{
 "cells": [
  {
   "cell_type": "code",
   "execution_count": 1,
   "metadata": {},
   "outputs": [
    {
     "name": "stdout",
     "output_type": "stream",
     "text": [
      "ThirtyDaysOfPython\n"
     ]
    }
   ],
   "source": [
    "# 1) Concatenate the string 'Thirty', 'Days', 'Of', 'Python' to a single string, 'Thirty Days Of Python'.\n",
    "word_a = \"Thirty\"\n",
    "word_b = \"Days\"\n",
    "word_c = \"Of\"\n",
    "word_d = \"Python\"\n",
    "complete = word_a + word_b + word_c + word_d\n",
    "print(complete)"
   ]
  },
  {
   "cell_type": "code",
   "execution_count": 2,
   "metadata": {},
   "outputs": [
    {
     "name": "stdout",
     "output_type": "stream",
     "text": [
      "Coding For All\n"
     ]
    }
   ],
   "source": [
    "#2) Concatenate the string 'Coding', 'For' , 'All' to a single string, 'Coding For All'.\n",
    "\n",
    "string1 = 'Coding'\n",
    "string2 = 'For'\n",
    "string3 = 'All'\n",
    "\n",
    "result = string1 + ' ' + string2 + ' ' + string3\n",
    "\n",
    "print(result)\n"
   ]
  },
  {
   "cell_type": "code",
   "execution_count": null,
   "metadata": {},
   "outputs": [],
   "source": [
    "# 3) Declare a variable named company and assign it to an initial value \"Coding For All\".\n",
    " \n",
    "company = \"Coding For All\""
   ]
  },
  {
   "cell_type": "code",
   "execution_count": 3,
   "metadata": {},
   "outputs": [
    {
     "name": "stdout",
     "output_type": "stream",
     "text": [
      "Coding For All\n"
     ]
    }
   ],
   "source": [
    "# 4) Print the variable company using print().\n",
    "company = \"Coding For All\"\n",
    "print(company)"
   ]
  },
  {
   "cell_type": "code",
   "execution_count": 6,
   "metadata": {},
   "outputs": [
    {
     "name": "stdout",
     "output_type": "stream",
     "text": [
      "14\n"
     ]
    }
   ],
   "source": [
    "# 5) Print the length of the company string using len() method and print().\n",
    "\n",
    "company = \"Coding For All\"\n",
    "print(len(company))"
   ]
  },
  {
   "cell_type": "code",
   "execution_count": 2,
   "metadata": {},
   "outputs": [
    {
     "name": "stdout",
     "output_type": "stream",
     "text": [
      "CODING FOR ALL\n"
     ]
    }
   ],
   "source": [
    "# 6) Change all the characters to uppercase letters using upper() method.\n",
    "company = \"Coding For All\"\n",
    "print(company.upper())"
   ]
  },
  {
   "cell_type": "code",
   "execution_count": 3,
   "metadata": {},
   "outputs": [
    {
     "name": "stdout",
     "output_type": "stream",
     "text": [
      "coding for all\n"
     ]
    }
   ],
   "source": [
    "# 7) Change all the characters to lowercase letters using lower() method.\n",
    "company = \"Coding For All\"\n",
    "print(company.lower())"
   ]
  },
  {
   "cell_type": "code",
   "execution_count": 8,
   "metadata": {},
   "outputs": [
    {
     "name": "stdout",
     "output_type": "stream",
     "text": [
      "Coding for all\n",
      "Coding For All\n",
      "CODING FOR aLL\n"
     ]
    }
   ],
   "source": [
    "# 8) Use capitalize(), title(), swapcase() methods to format the value of the string Coding For All.\n",
    "company = \"coding for All\"\n",
    "print(company.capitalize())\n",
    "print(company.title())\n",
    "print(company.swapcase())"
   ]
  },
  {
   "cell_type": "code",
   "execution_count": 11,
   "metadata": {},
   "outputs": [
    {
     "name": "stdout",
     "output_type": "stream",
     "text": [
      "Coding\n"
     ]
    }
   ],
   "source": [
    "# 9) Cut(slice) out the first word of Coding For All string.\n",
    "company = \"Coding For All\"\n",
    "first_word = company[0:6]\n",
    "print(first_word)\n"
   ]
  },
  {
   "cell_type": "code",
   "execution_count": 15,
   "metadata": {},
   "outputs": [
    {
     "name": "stdout",
     "output_type": "stream",
     "text": [
      "0\n",
      "-1\n"
     ]
    }
   ],
   "source": [
    "# 10) Check if Coding For All string contains a word Coding using the method index, find or other methods.\n",
    "company = \"Coding For All\"\n",
    "substring = \"Coding\"\n",
    "print(company.find(\"Coding\"))\n",
    "print(company.find(\"fax\"))\n"
   ]
  },
  {
   "cell_type": "code",
   "execution_count": 1,
   "metadata": {},
   "outputs": [
    {
     "name": "stdout",
     "output_type": "stream",
     "text": [
      "Playing For All\n"
     ]
    }
   ],
   "source": [
    "# 11) Replace the word coding in the string 'Coding For All' to Python.\n",
    "company = \"Coding For All\"\n",
    "print(company.replace(\"Coding\", \"Playing\"))\n"
   ]
  },
  {
   "cell_type": "code",
   "execution_count": 4,
   "metadata": {},
   "outputs": [
    {
     "name": "stdout",
     "output_type": "stream",
     "text": [
      "Playing for Everyone\n"
     ]
    }
   ],
   "source": [
    "# 12) Change Python for Everyone to Python for All using the replace method or other methods.\n",
    "company = \"Python for Everyone\"\n",
    "print(company.replace(\"Python\", \"Playing\"))\n"
   ]
  },
  {
   "cell_type": "code",
   "execution_count": 10,
   "metadata": {},
   "outputs": [
    {
     "name": "stdout",
     "output_type": "stream",
     "text": [
      "['Coding', 'For', 'All']\n"
     ]
    }
   ],
   "source": [
    "# 13) Split the string 'Coding For All' using space as the separator (split()) .\n",
    "company = \"Coding For All\"\n",
    "print(company.split(\" \"))"
   ]
  },
  {
   "cell_type": "code",
   "execution_count": 17,
   "metadata": {},
   "outputs": [
    {
     "name": "stdout",
     "output_type": "stream",
     "text": [
      "['Facebook', ' Google', ' Microsoft', ' Apple', ' IBM', ' Oracle', ' Amazon']\n"
     ]
    }
   ],
   "source": [
    "# 14) \"Facebook, Google, Microsoft, Apple, IBM, Oracle, Amazon\" split the string at the comma.\n",
    "company = \"Facebook, Google, Microsoft, Apple, IBM, Oracle, Amazon\"\n",
    "print(company.split(\",\"))"
   ]
  },
  {
   "cell_type": "code",
   "execution_count": 19,
   "metadata": {},
   "outputs": [
    {
     "name": "stdout",
     "output_type": "stream",
     "text": [
      "C\n"
     ]
    }
   ],
   "source": [
    "# 15) What is the character at index 0 in the string Coding For All.\n",
    "company = \"Coding For All\"\n",
    "print(company[0])\n"
   ]
  },
  {
   "cell_type": "code",
   "execution_count": 35,
   "metadata": {},
   "outputs": [
    {
     "name": "stdout",
     "output_type": "stream",
     "text": [
      "14\n",
      "y\n",
      "y\n"
     ]
    }
   ],
   "source": [
    "# 16 What is the last index of the string Coding For All.\n",
    "company = \"Coding For Ally\"\n",
    "last_Char = company[-1]\n",
    "last_index = len(company)-1\n",
    "print(last_index)\n",
    "print(company[14])\n",
    "print(last_Char)\n",
    "\n"
   ]
  },
  {
   "cell_type": "code",
   "execution_count": 38,
   "metadata": {},
   "outputs": [
    {
     "name": "stdout",
     "output_type": "stream",
     "text": [
      " \n"
     ]
    }
   ],
   "source": [
    "# 17) What character is at index 10 in \"Coding For All\" string.\n",
    "company = \"Coding For Ally\"\n",
    "print(company[10])"
   ]
  },
  {
   "cell_type": "code",
   "execution_count": 50,
   "metadata": {},
   "outputs": [
    {
     "name": "stdout",
     "output_type": "stream",
     "text": [
      "PFE\n"
     ]
    }
   ],
   "source": [
    "# 18) Create an acronym or an abbreviation for the name 'Python For Everyone'.\n",
    "company = 'Python For Everyone'\n",
    "acronym = company[0] + company[7] + company[11]\n",
    "print(acronym)\n",
    "\n"
   ]
  },
  {
   "cell_type": "code",
   "execution_count": 51,
   "metadata": {},
   "outputs": [
    {
     "name": "stdout",
     "output_type": "stream",
     "text": [
      "CFA\n"
     ]
    }
   ],
   "source": [
    "# 19) Create an acronym or an abbreviation for the name 'Coding For All'.\n",
    "company = 'Coding For All'\n",
    "acronym = company[0] + company[7] + company[11]\n",
    "print(acronym)\n"
   ]
  },
  {
   "cell_type": "code",
   "execution_count": 57,
   "metadata": {},
   "outputs": [
    {
     "name": "stdout",
     "output_type": "stream",
     "text": [
      "0\n"
     ]
    }
   ],
   "source": [
    "# 20) Use index to determine the position of the first occurrence of C in Coding For All.\n",
    "company = 'Coding For All'\n",
    "print(company.find(\"C\"))"
   ]
  },
  {
   "cell_type": "code",
   "execution_count": 64,
   "metadata": {},
   "outputs": [
    {
     "name": "stdout",
     "output_type": "stream",
     "text": [
      "7\n",
      "5\n"
     ]
    }
   ],
   "source": [
    "# 21) Use index to determine the position of the first occurrence of F in Coding For All.\n",
    "company = 'Coding For All'\n",
    "print(company.find(\"F\"))\n",
    "print(company.index(\"g\"))\n"
   ]
  },
  {
   "cell_type": "code",
   "execution_count": 62,
   "metadata": {},
   "outputs": [
    {
     "name": "stdout",
     "output_type": "stream",
     "text": [
      "13\n",
      "12\n"
     ]
    }
   ],
   "source": [
    "# 22) Use rfind to determine the position of the last occurrence of l in Coding For All People.\n",
    "company = 'Coding For All'\n",
    "print(company.rfind(\"l\"))\n",
    "print(company.find(\"l\"))\n",
    "\n"
   ]
  },
  {
   "cell_type": "code",
   "execution_count": 67,
   "metadata": {},
   "outputs": [
    {
     "name": "stdout",
     "output_type": "stream",
     "text": [
      "31\n",
      "31\n"
     ]
    }
   ],
   "source": [
    "# 23) Use index or find to find the position of the first occurrence of the word 'because' in the following sentence: 'You cannot end a sentence with because because because is a conjunction'\n",
    "\n",
    "sentence = 'You cannot end a sentence with because because because is a conjunction'\n",
    "print(sentence.index(\"because\"))\n",
    "print(sentence.find(\"because\"))"
   ]
  },
  {
   "cell_type": "code",
   "execution_count": 68,
   "metadata": {},
   "outputs": [
    {
     "name": "stdout",
     "output_type": "stream",
     "text": [
      "47\n",
      "31\n"
     ]
    }
   ],
   "source": [
    "# 24) Use rindex to find the position of the last occurrence of the word because in the following sentence: 'You cannot end a sentence with because because because is a conjunction'\n",
    "\n",
    "sentence = 'You cannot end a sentence with because because because is a conjunction'\n",
    "print(sentence.rindex(\"because\"))\n",
    "print(sentence.find(\"because\"))"
   ]
  },
  {
   "cell_type": "code",
   "execution_count": 77,
   "metadata": {},
   "outputs": [
    {
     "name": "stdout",
     "output_type": "stream",
     "text": [
      "because because because\n"
     ]
    }
   ],
   "source": [
    "# 25) Slice out the phrase 'because because because' in the following sentence: 'You cannot end a sentence with because because because is a conjunction'\n",
    "sentence = 'You cannot end a sentence with because because because is a conjunction'\n",
    "substring = sentence[31:54]\n",
    "print(substring)"
   ]
  },
  {
   "cell_type": "code",
   "execution_count": 78,
   "metadata": {},
   "outputs": [
    {
     "name": "stdout",
     "output_type": "stream",
     "text": [
      "31\n"
     ]
    }
   ],
   "source": [
    "#  26) Find the position of the first occurrence of the word 'because' in the following sentence: 'You cannot end a sentence with because because because is a conjunction'\n",
    "sentence = 'You cannot end a sentence with because because because is a conjunction'\n",
    "print(sentence.find(\"because\"))"
   ]
  },
  {
   "cell_type": "code",
   "execution_count": 79,
   "metadata": {},
   "outputs": [
    {
     "name": "stdout",
     "output_type": "stream",
     "text": [
      "because because because\n"
     ]
    }
   ],
   "source": [
    "# 27) Slice out the phrase 'because because because' in the following sentence: 'You cannot end a sentence with because because because is a conjunction'\n",
    "sentence = 'You cannot end a sentence with because because because is a conjunction'\n",
    "substring = sentence[31:54]\n",
    "print(substring)"
   ]
  },
  {
   "cell_type": "code",
   "execution_count": 80,
   "metadata": {},
   "outputs": [
    {
     "name": "stdout",
     "output_type": "stream",
     "text": [
      "True\n"
     ]
    }
   ],
   "source": [
    "# 28) Does ''Coding For All' start with a substring Coding?\n",
    "sentence = 'Coding For All'\n",
    "print(sentence.startswith(\"Coding\"))"
   ]
  },
  {
   "cell_type": "code",
   "execution_count": 83,
   "metadata": {},
   "outputs": [
    {
     "name": "stdout",
     "output_type": "stream",
     "text": [
      "False\n",
      "True\n"
     ]
    }
   ],
   "source": [
    "# 29) Does 'Coding For All' end with a substring coding?\n",
    "sentence = 'Coding For All'\n",
    "print(sentence.endswith(\"Coding\"))\n",
    "print(sentence.endswith(\"All\"))"
   ]
  },
  {
   "cell_type": "code",
   "execution_count": 88,
   "metadata": {},
   "outputs": [
    {
     "name": "stdout",
     "output_type": "stream",
     "text": [
      "Coding For All\n",
      "    Coding For All      \n"
     ]
    }
   ],
   "source": [
    "# 30)'    Coding For All      '  , remove the left and right trailing spaces in the given string.\n",
    "sentence = '    Coding For All      '\n",
    "print(sentence.strip(\" \"))\n",
    "print(sentence)\n"
   ]
  },
  {
   "cell_type": "code",
   "execution_count": 90,
   "metadata": {},
   "outputs": [
    {
     "name": "stdout",
     "output_type": "stream",
     "text": [
      "False\n",
      "True\n"
     ]
    }
   ],
   "source": [
    "# 31) Which one of the following variables return True when we use the method isidentifier():\n",
    "# 30DaysOfPython\n",
    "# thirty_days_of_python\n",
    "sentence = \"30DaysOfPython\"\n",
    "print(sentence.isidentifier())\n",
    "sentence = \"thirty_days_of_python\"\n",
    "print(sentence.isidentifier())"
   ]
  },
  {
   "cell_type": "code",
   "execution_count": 93,
   "metadata": {},
   "outputs": [
    {
     "name": "stdout",
     "output_type": "stream",
     "text": [
      "Django # Flask # Bottle # Pyramid # Falcon\n"
     ]
    }
   ],
   "source": [
    "# 32) The following list contains the names of some of python libraries: ['Django', 'Flask', 'Bottle', 'Pyramid', 'Falcon']. Join the list with a hash with space string.\n",
    "libraries = ['Django', 'Flask', 'Bottle', 'Pyramid', 'Falcon']\n",
    "joined = \" # \".join(libraries)\n",
    "print(joined)\n"
   ]
  },
  {
   "cell_type": "code",
   "execution_count": 95,
   "metadata": {},
   "outputs": [
    {
     "name": "stdout",
     "output_type": "stream",
     "text": [
      "I am enjoying this challenge. \n",
      "I just wonder what is next.\n"
     ]
    }
   ],
   "source": [
    "# 33) Use the new line escape sequence to separate the following sentences.\n",
    "# I am enjoying this challenge. I just wonder what is next.\n",
    "print(\"I am enjoying this challenge.\\nI just wonder what is next.\")"
   ]
  },
  {
   "cell_type": "code",
   "execution_count": 110,
   "metadata": {},
   "outputs": [
    {
     "name": "stdout",
     "output_type": "stream",
     "text": [
      "Name    \t Age\tCountry \tCity\n",
      "Salvador\t 33\tMexico   \tCDMX\n"
     ]
    }
   ],
   "source": [
    "# 34) Use a tab escape sequence to write the following lines.\n",
    "# Name      Age     Country   City\n",
    "# Asabeneh  250     Finland   Helsinki\n",
    "\n",
    "print(\"Name    \\t Age\\tCountry \\tCity\")\n",
    "print(\"Salvador\\t 33\\tMexico   \\tCDMX\")\n",
    "\n"
   ]
  },
  {
   "cell_type": "code",
   "execution_count": null,
   "metadata": {},
   "outputs": [],
   "source": [
    "# 35) Use the string formatting method to display the following:\n",
    "#se encuentra en otra pagina marca error en esta TypeError: ‘float’ object is not callable” in Python\n"
   ]
  },
  {
   "cell_type": "code",
   "execution_count": 138,
   "metadata": {},
   "outputs": [
    {
     "ename": "TypeError",
     "evalue": "'float' object is not callable",
     "output_type": "error",
     "traceback": [
      "\u001b[1;31m---------------------------------------------------------------------------\u001b[0m",
      "\u001b[1;31mTypeError\u001b[0m                                 Traceback (most recent call last)",
      "\u001b[1;32mc:\\Users\\sambriz\\Desktop\\Salva\\30-Days-Of-Python\\04_Day_Strings\\exercises_Sal.ipynb Cell 36\u001b[0m line \u001b[0;36m5\n\u001b[0;32m      <a href='vscode-notebook-cell:/c%3A/Users/sambriz/Desktop/Salva/30-Days-Of-Python/04_Day_Strings/exercises_Sal.ipynb#X63sZmlsZQ%3D%3D?line=1'>2</a>\u001b[0m a \u001b[39m=\u001b[39m \u001b[39m8\u001b[39m\n\u001b[0;32m      <a href='vscode-notebook-cell:/c%3A/Users/sambriz/Desktop/Salva/30-Days-Of-Python/04_Day_Strings/exercises_Sal.ipynb#X63sZmlsZQ%3D%3D?line=2'>3</a>\u001b[0m b \u001b[39m=\u001b[39m \u001b[39m6\u001b[39m\n\u001b[1;32m----> <a href='vscode-notebook-cell:/c%3A/Users/sambriz/Desktop/Salva/30-Days-Of-Python/04_Day_Strings/exercises_Sal.ipynb#X63sZmlsZQ%3D%3D?line=4'>5</a>\u001b[0m \u001b[39mprint\u001b[39;49m(a)\n",
      "\u001b[1;31mTypeError\u001b[0m: 'float' object is not callable"
     ]
    }
   ],
   "source": [
    "# 36) Make the following using string formatting methods:\n",
    "a = 8\n",
    "b = 6\n",
    "\n",
    "print(a)"
   ]
  }
 ],
 "metadata": {
  "kernelspec": {
   "display_name": "Python 3",
   "language": "python",
   "name": "python3"
  },
  "language_info": {
   "codemirror_mode": {
    "name": "ipython",
    "version": 3
   },
   "file_extension": ".py",
   "mimetype": "text/x-python",
   "name": "python",
   "nbconvert_exporter": "python",
   "pygments_lexer": "ipython3",
   "version": "3.12.1"
  }
 },
 "nbformat": 4,
 "nbformat_minor": 2
}
