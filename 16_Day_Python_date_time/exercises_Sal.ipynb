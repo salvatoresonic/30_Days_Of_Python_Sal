{
 "cells": [
  {
   "cell_type": "markdown",
   "metadata": {},
   "source": [
    "# Exercises: Day 16\n"
   ]
  },
  {
   "cell_type": "code",
   "execution_count": 14,
   "metadata": {},
   "outputs": [
    {
     "name": "stdout",
     "output_type": "stream",
     "text": [
      "2024-01-26 10:45:00.240288\n",
      "01/26/2024, 10:45:00\n",
      "2019-12-05 00:00:00\n",
      "341 days, 0:00:00\n",
      "19748 days, 10:45:00.240288\n"
     ]
    }
   ],
   "source": [
    "# 1) Get the current day, month, year, hour, minute and timestamp from datetime module\n",
    "from datetime import datetime\n",
    "now = datetime.now()\n",
    "print(now)\n",
    "\n",
    "\n",
    "# 2) Format the current date using this format: \"%m/%d/%Y, %H:%M:%S\")\n",
    "t = now.strftime('%m/%d/%Y, %H:%M:%S')\n",
    "print(t)\n",
    "\n",
    "\n",
    "# 3) Today is 5 December, 2019. Change this time string to time.\n",
    "new_year = datetime(2019, 12, 5)\n",
    "print(new_year)\n",
    "\n",
    "\n",
    "# 4) Calculate the time difference between now and new year.\n",
    "today = datetime(year=2024, month=1, day=26)\n",
    "new_year = datetime(year=2025, month=1, day=1)\n",
    "difference_between_years = new_year - today\n",
    "print(difference_between_years)\n",
    "\n",
    "\n",
    "# 5) Calculate the time difference between 1 January 1970 and now.\n",
    "old_date = datetime(year=1970, month=1, day=1)\n",
    "today = datetime.now()\n",
    "diff = today - old_date\n",
    "print(diff)\n",
    "\n",
    "# 6) Think, what can you use the datetime module for? Examples:\n",
    "    # Time series analysis\n",
    "    # To get a timestamp of any activities in an application\n",
    "    # Adding posts on a blog"
   ]
  }
 ],
 "metadata": {
  "kernelspec": {
   "display_name": "Python 3",
   "language": "python",
   "name": "python3"
  },
  "language_info": {
   "codemirror_mode": {
    "name": "ipython",
    "version": 3
   },
   "file_extension": ".py",
   "mimetype": "text/x-python",
   "name": "python",
   "nbconvert_exporter": "python",
   "pygments_lexer": "ipython3",
   "version": "3.12.1"
  }
 },
 "nbformat": 4,
 "nbformat_minor": 2
}
