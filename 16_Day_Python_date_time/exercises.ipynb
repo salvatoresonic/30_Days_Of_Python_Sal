{
 "cells": [
  {
   "cell_type": "markdown",
   "metadata": {},
   "source": [
    "# Python datetime\n",
    "Python has got datetime module to handle date and time."
   ]
  },
  {
   "cell_type": "code",
   "execution_count": 1,
   "metadata": {},
   "outputs": [
    {
     "name": "stdout",
     "output_type": "stream",
     "text": [
      "['MAXYEAR', 'MINYEAR', 'UTC', '__all__', '__builtins__', '__cached__', '__doc__', '__file__', '__loader__', '__name__', '__package__', '__spec__', 'date', 'datetime', 'datetime_CAPI', 'time', 'timedelta', 'timezone', 'tzinfo']\n"
     ]
    },
    {
     "data": {
      "text/plain": [
       "['MAXYEAR',\n",
       " 'MINYEAR',\n",
       " '__builtins__',\n",
       " '__cached__',\n",
       " '__doc__',\n",
       " '__file__',\n",
       " '__loader__',\n",
       " '__name__',\n",
       " '__package__',\n",
       " '__spec__',\n",
       " 'date',\n",
       " 'datetime',\n",
       " 'datetime_CAPI',\n",
       " 'sys',\n",
       " 'time',\n",
       " 'timedelta',\n",
       " 'timezone',\n",
       " 'tzinfo']"
      ]
     },
     "execution_count": 1,
     "metadata": {},
     "output_type": "execute_result"
    }
   ],
   "source": [
    "import datetime\n",
    "print(dir(datetime))\n",
    "['MAXYEAR', 'MINYEAR', '__builtins__', '__cached__', '__doc__', '__file__', '__loader__', '__name__', '__package__', '__spec__', 'date', 'datetime', 'datetime_CAPI', 'sys', 'time', 'timedelta', 'timezone', 'tzinfo']"
   ]
  },
  {
   "cell_type": "markdown",
   "metadata": {},
   "source": [
    "# Getting datetime Information"
   ]
  },
  {
   "cell_type": "code",
   "execution_count": 2,
   "metadata": {},
   "outputs": [
    {
     "name": "stdout",
     "output_type": "stream",
     "text": [
      "2024-01-26 09:21:38.475780\n",
      "26 1 2024 9 21\n",
      "timestamp 1706278898.47578\n",
      "26/1/2024, 9:21\n"
     ]
    }
   ],
   "source": [
    "from datetime import datetime\n",
    "now = datetime.now()\n",
    "print(now)                      # 2021-07-08 07:34:46.549883\n",
    "day = now.day                   # 8\n",
    "month = now.month               # 7\n",
    "year = now.year                 # 2021\n",
    "hour = now.hour                 # 7\n",
    "minute = now.minute             # 38\n",
    "second = now.second\n",
    "timestamp = now.timestamp()\n",
    "print(day, month, year, hour, minute)\n",
    "print('timestamp', timestamp)\n",
    "print(f'{day}/{month}/{year}, {hour}:{minute}')  # 8/7/2021, 7:38"
   ]
  },
  {
   "cell_type": "markdown",
   "metadata": {},
   "source": [
    "Timestamp or Unix timestamp is the number of seconds elapsed from 1st of January 1970 UTC."
   ]
  },
  {
   "cell_type": "markdown",
   "metadata": {},
   "source": [
    "# Formatting Date Output Using strftime\n"
   ]
  },
  {
   "cell_type": "code",
   "execution_count": 3,
   "metadata": {},
   "outputs": [
    {
     "name": "stdout",
     "output_type": "stream",
     "text": [
      "2020-01-01 00:00:00\n",
      "1 1 2020 0 0\n",
      "1/1/2020, 0:0\n"
     ]
    }
   ],
   "source": [
    "from datetime import datetime\n",
    "new_year = datetime(2020, 1, 1)\n",
    "print(new_year)      # 2020-01-01 00:00:00\n",
    "day = new_year.day\n",
    "month = new_year.month\n",
    "year = new_year.year\n",
    "hour = new_year.hour\n",
    "minute = new_year.minute\n",
    "second = new_year.second\n",
    "print(day, month, year, hour, minute) #1 1 2020 0 0\n",
    "print(f'{day}/{month}/{year}, {hour}:{minute}')  # 1/1/2020, 0:0\n"
   ]
  },
  {
   "cell_type": "markdown",
   "metadata": {},
   "source": [
    "Formatting date time using strftime method and the documentation can be found here.\n",
    "\n"
   ]
  },
  {
   "cell_type": "code",
   "execution_count": 6,
   "metadata": {},
   "outputs": [
    {
     "name": "stdout",
     "output_type": "stream",
     "text": [
      "time: 09:25:30\n",
      "time one: 01/26/2024, 09:25:30\n",
      "time two: 26/01/2024, 09:25:30\n"
     ]
    }
   ],
   "source": [
    "from datetime import datetime\n",
    "\n",
    "# current date and time\n",
    "now = datetime.now()\n",
    "t = now.strftime(\"%H:%M:%S\")\n",
    "print(\"time:\", t)\n",
    "\n",
    "\n",
    "time_one = now.strftime(\"%m/%d/%Y, %H:%M:%S\")\n",
    "# mm/dd/YY H:M:S format\n",
    "print(\"time one:\", time_one)\n",
    "\n",
    "time_two = now.strftime(\"%d/%m/%Y, %H:%M:%S\")\n",
    "# dd/mm/YY H:M:S format\n",
    "print(\"time two:\", time_two)"
   ]
  }
 ],
 "metadata": {
  "kernelspec": {
   "display_name": "Python 3",
   "language": "python",
   "name": "python3"
  },
  "language_info": {
   "codemirror_mode": {
    "name": "ipython",
    "version": 3
   },
   "file_extension": ".py",
   "mimetype": "text/x-python",
   "name": "python",
   "nbconvert_exporter": "python",
   "pygments_lexer": "ipython3",
   "version": "3.12.1"
  }
 },
 "nbformat": 4,
 "nbformat_minor": 2
}
