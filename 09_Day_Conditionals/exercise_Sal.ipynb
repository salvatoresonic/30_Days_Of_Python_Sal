{
 "cells": [
  {
   "cell_type": "markdown",
   "metadata": {},
   "source": [
    "### Exercises: Level 1\n"
   ]
  },
  {
   "cell_type": "code",
   "execution_count": null,
   "metadata": {},
   "outputs": [],
   "source": [
    "# 1) Get user input using input(“Enter your age: ”). If user is 18 or older, give feedback: You are old enough to drive. If below 18 give feedback to wait for the missing amount of years. Output:}\n",
    "\n",
    "Enter your age: 30\n",
    "You are old enough to learn to drive.\n",
    "Output:\n",
    "Enter your age: 15\n",
    "You need 3 more years to learn to drive."
   ]
  },
  {
   "cell_type": "code",
   "execution_count": 28,
   "metadata": {},
   "outputs": [
    {
     "name": "stdout",
     "output_type": "stream",
     "text": [
      "You are old enough to drive\n"
     ]
    }
   ],
   "source": [
    "age = int(input('Enter your age: '))\n",
    "\n",
    "\n",
    "if age >= 18:  \n",
    "     print(\"You are old enough to drive\")\n",
    "else:\n",
    "     print('you have to wait', 18 - age, 'years to drive')\n"
   ]
  },
  {
   "cell_type": "code",
   "execution_count": 66,
   "metadata": {},
   "outputs": [
    {
     "name": "stdout",
     "output_type": "stream",
     "text": [
      "im older than you by 1 year\n"
     ]
    }
   ],
   "source": [
    "#Compare the values of my_age and your_age using if … else. Who is older (me or you)? Use input(“Enter your age: ”) to get the age as input. You can use a nested condition to print 'year' for 1 year difference in age, 'years' for bigger differences, and a custom text if my_age = your_age. Output:\n",
    "\n",
    "    # Enter your age: 30\n",
    "    # You are 5 years older than me.\n",
    "\n",
    "my_age = 25\n",
    "your_age = 24\n",
    "\n",
    "if your_age > my_age:\n",
    "    if your_age - my_age == 1:\n",
    "        print('you are', your_age-my_age, 'year older than me')\n",
    "    else:    \n",
    "        print('you are', your_age-my_age, 'years older than me')\n",
    "elif your_age == my_age:\n",
    "    print('we are the same age')\n",
    "elif your_age < my_age:\n",
    "    if my_age - your_age == 1:\n",
    "        print('im older than you by', my_age - your_age, 'year')\n",
    "    else:\n",
    "        print('im older than you by', my_age - your_age, 'years')"
   ]
  },
  {
   "cell_type": "code",
   "execution_count": 80,
   "metadata": {},
   "outputs": [
    {
     "name": "stdout",
     "output_type": "stream",
     "text": [
      "You are 3 years older than me\n"
     ]
    }
   ],
   "source": [
    "my_age = 25\n",
    "your_age = int(input('Enter your age'))\n",
    "\n",
    "if your_age > my_age and your_age - my_age == 1:\n",
    "    print('You are', your_age-my_age, 'year older than me')\n",
    "elif your_age > my_age:\n",
    "    print('You are', your_age-my_age, 'years older than me')\n",
    "elif your_age < my_age and my_age - your_age == 1:\n",
    "    print('I am', your_age-my_age, 'year older than you')\n",
    "elif your_age < my_age:\n",
    "    print('I am', my_age - your_age, ' years older than you')\n",
    "else:\n",
    "    print('We are the same age')"
   ]
  },
  {
   "cell_type": "code",
   "execution_count": 89,
   "metadata": {},
   "outputs": [
    {
     "name": "stdout",
     "output_type": "stream",
     "text": [
      "10 is equal to 10\n"
     ]
    }
   ],
   "source": [
    "# Get two numbers from the user using input prompt. If a is greater than b return a is greater than b, if a is less b return a is smaller than b, else a is equal to b. Output:\n",
    "\n",
    "    # Enter number one: 4\n",
    "    # Enter number two: 3\n",
    "    # 4 is greater than 3\n",
    "\n",
    "a = int(input('Enter number one'))\n",
    "b = int(input('Enter nomber two'))\n",
    "\n",
    "if a > b:\n",
    "    print(a, 'is greater than', b)\n",
    "elif a < b:\n",
    "    print(a, 'a is smaller than', b)\n",
    "else:\n",
    "    print(a, 'is equal to', b )\n",
    "\n"
   ]
  },
  {
   "cell_type": "markdown",
   "metadata": {},
   "source": [
    "### Exercises: Level 2"
   ]
  },
  {
   "cell_type": "code",
   "execution_count": 105,
   "metadata": {},
   "outputs": [
    {
     "name": "stdout",
     "output_type": "stream",
     "text": [
      "Your grade is D\n"
     ]
    }
   ],
   "source": [
    "# 1) Write a code which gives grade to students according to theirs scores:\n",
    "    # 80-100, A\n",
    "    # 70-89, B\n",
    "    # 60-69, C\n",
    "    # 50-59, D\n",
    "    # 0-49, F\n",
    "\n",
    "score = 50\n",
    "if 80 <= score <= 100:\n",
    "    print('Your grade is A') \n",
    "elif 70 <= score <= 89:\n",
    "    print('Your grade is B') \n",
    "elif 60 <= score <= 69:\n",
    "    print('Your grade is C') \n",
    "elif 50 <= score <= 59:\n",
    "    print('Your grade is D') \n",
    "elif score <= 49:\n",
    "    print('Your grade is F') \n",
    "\n",
    "\n"
   ]
  },
  {
   "cell_type": "code",
   "execution_count": 108,
   "metadata": {},
   "outputs": [
    {
     "name": "stdout",
     "output_type": "stream",
     "text": [
      "You are in Spring\n"
     ]
    }
   ],
   "source": [
    "# 2) Check if the season is Autumn, Winter, Spring or Summer. If the user input is: September, October or November, the season is Autumn. December, January or February, the season is Winter. March, April or May, the season is Spring June, July or August, the season is Summer\n",
    "\n",
    "month = input('What month are you in')\n",
    "\n",
    "if month == 'September' or  month == 'October' or  month == 'November':\n",
    "    print('You are in Autumn')\n",
    "elif month == 'December' or month == 'January' or month == 'February':\n",
    "    print('You are in Winter') \n",
    "elif month == 'March' or month == 'April' or month == 'May':\n",
    "    print('You are in Spring')\n",
    "elif month == 'June' or month == 'July' or month == 'August':\n",
    "    print('You are in Summer')\n",
    "else:\n",
    "    print('you entered', month, 'please enter a correct month')\n"
   ]
  },
  {
   "cell_type": "code",
   "execution_count": 125,
   "metadata": {},
   "outputs": [
    {
     "name": "stdout",
     "output_type": "stream",
     "text": [
      "tomato will be added to the list fruits ['banana', 'orange', 'mango', 'lemon', 'tomato']\n"
     ]
    }
   ],
   "source": [
    "# 3)The following list contains some fruits:\n",
    "\n",
    "fruits = ['banana', 'orange', 'mango', 'lemon']\n",
    "\n",
    "1# If a fruit doesn't exist in the list add the fruit to the list and print the modified list. If the fruit exists print('That fruit already exist in the list')\n",
    "\n",
    "fruit_aln = input('Ingresa una fruta')\n",
    "\n",
    "if fruit_aln in fruits:\n",
    "    print(fruit_aln, 'already exists in the list')\n",
    "    print(fruits)\n",
    "else:\n",
    "    fruits.append(fruit_aln)\n",
    "    print(fruit_aln, 'will be added to the list fruits', fruits)\n",
    "\n",
    "\n",
    "    \n",
    "\n"
   ]
  },
  {
   "cell_type": "markdown",
   "metadata": {},
   "source": [
    "# Exercises: Level 3\n"
   ]
  },
  {
   "cell_type": "code",
   "execution_count": 216,
   "metadata": {},
   "outputs": [
    {
     "name": "stdout",
     "output_type": "stream",
     "text": [
      "5\n",
      "Node\n",
      "['JavaScript', 'React', 'Node', 'MongoDB', 'Python']\n",
      "React is in skills list ['JavaScript', 'React', 'Node', 'MongoDB', 'Python']\n",
      "He is a full stack developer\n",
      "Asabeneh Yetayeh lives in Finland. He is married.\n"
     ]
    }
   ],
   "source": [
    "# 1) Here we have a person dictionary. Feel free to modify it!\n",
    "\n",
    "person={\n",
    "    'first_name': 'Asabeneh',\n",
    "    'last_name': 'Yetayeh',\n",
    "    'age': 250,\n",
    "    'country': 'Finland',\n",
    "    'is_marred': True,\n",
    "    'skills': ['JavaScript', 'React', 'Node', 'MongoDB', 'Python'],\n",
    "    'address': {\n",
    "        'street': 'Space street',\n",
    "        'zipcode': '02210'\n",
    "    }\n",
    "}\n",
    "\n",
    "# 1) * Check if the person dictionary has skills key, if so print out the middle skill in the skills list.\n",
    "\n",
    "if 'skills' in person:\n",
    "    print(len(person['skills']))\n",
    "    print(person['skills'][2])\n",
    "\n",
    "# 2) * Check if the person dictionary has skills key, if so check if the person has 'Python' skill and print out the result.\n",
    "\n",
    "one_skill = 'React'   \n",
    "\n",
    "if 'skills' in person:\n",
    "    print(person['skills'])\n",
    "    if one_skill in person['skills']:\n",
    "        print(one_skill, 'is in skills list', person['skills'])\n",
    "    else:\n",
    "        print(one_skill, 'is not in skills list', person['skills'])\n",
    "\n",
    "# 3) * If a person skills has only JavaScript and React, print('He is a front end developer'), if the person skills has Node, Python, MongoDB, print('He is a backend developer'), if the person skills has React, Node and MongoDB, Print('He is a fullstack developer'), else print('unknown title') - for more accurate results more conditions can be nested!\n",
    "\n",
    "\n",
    "person ={\n",
    "    'first_name': 'Asabeneh',\n",
    "    'last_name': 'Yetayeh',\n",
    "    'age': 250,\n",
    "    'country': 'Finland',\n",
    "    'is_marred': True,\n",
    "    'skills': ['JavaScript', 'React', 'Node', 'MongoDB', 'Python',],\n",
    "    'address': {\n",
    "        'street': 'Space street',\n",
    "        'zipcode': '02210'\n",
    "    }\n",
    "}\n",
    "\n",
    "\n",
    "# skills': ['JavaScript', 'React', 'Node', 'MongoDB', 'Python']\n",
    "\n",
    "if 'skills' in person:\n",
    "    if 'JavaScript' in person['skills'] and 'React' in person['skills'] and 'Node' in person['skills'] and 'MongoDB' in person['skills'] and 'Python' in person['skills'] :\n",
    "        print('He is a full stack developer')\n",
    "    elif 'JavaScript' in person['skills'] and 'React' in person['skills']:\n",
    "        print('He is a front end developer')\n",
    "    elif 'Node' in person['skills'] and 'MongoDB' in person['skills'] and 'Python' in person['skills'] :\n",
    "        print('He is a back end developer')\n",
    "    else:\n",
    "        print('unknown title')\n",
    "        \n",
    "\n",
    "\n",
    "# 4) * If the person is married and if he lives in Finland, print the information in the following format:\n",
    "            # Asabeneh Yetayeh lives in Finland. He is married.\n",
    "\n",
    "married = True\n",
    "lives = 'Finland'\n",
    "\n",
    "if married == True and lives == 'Finland':\n",
    "    print('Asabeneh Yetayeh lives in Finland. He is married.')"
   ]
  }
 ],
 "metadata": {
  "kernelspec": {
   "display_name": "Python 3",
   "language": "python",
   "name": "python3"
  },
  "language_info": {
   "codemirror_mode": {
    "name": "ipython",
    "version": 3
   },
   "file_extension": ".py",
   "mimetype": "text/x-python",
   "name": "python",
   "nbconvert_exporter": "python",
   "pygments_lexer": "ipython3",
   "version": "3.12.0"
  }
 },
 "nbformat": 4,
 "nbformat_minor": 2
}
