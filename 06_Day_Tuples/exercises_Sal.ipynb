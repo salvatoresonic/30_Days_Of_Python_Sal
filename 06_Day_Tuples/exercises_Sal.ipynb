{
 "cells": [
  {
   "cell_type": "code",
   "execution_count": 5,
   "metadata": {},
   "outputs": [
    {
     "name": "stdout",
     "output_type": "stream",
     "text": [
      "('Eric', 'Kevin', 'Carlos', 'Mauricio', 'Teresa', 'Norma', 'Citlali', 'Marisol')\n",
      "8\n",
      "['Eric', 'Kevin', 'Carlos', 'Mauricio', 'Teresa', 'Norma', 'Citlali', 'Marisol', 'Hilda', 'Salvador']\n"
     ]
    }
   ],
   "source": [
    "# 1) Create an empty tuple\n",
    "empty_tpl = ()\n",
    "\n",
    "# 2) Create a tuple containing names of your sisters and your brothers (imaginary siblings are fine)\n",
    "brothers_names = ('Eric', 'Kevin', 'Carlos', 'Mauricio')\n",
    "sisters_names = ('Teresa', 'Norma', 'Citlali', 'Marisol')\n",
    "\n",
    "# 3) Join brothers and sisters tuples and assign it to siblings\n",
    "joined_tpl = brothers_names + sisters_names\n",
    "print(joined_tpl)\n",
    "\n",
    "# 4) How many siblings do you have?\n",
    "print(len(joined_tpl))\n",
    "\n",
    "# 5) Modify the siblings tuple and add the name of your father and mother and assign it to family_members\n",
    "\n",
    "family_members = list(joined_tpl)\n",
    "family_members.append('Hilda')\n",
    "family_members.append('Salvador')\n",
    "print(family_members)\n",
    "\n"
   ]
  },
  {
   "cell_type": "markdown",
   "metadata": {},
   "source": [
    "# Exercises: Level 2\n"
   ]
  },
  {
   "cell_type": "code",
   "execution_count": 10,
   "metadata": {},
   "outputs": [
    {
     "name": "stdout",
     "output_type": "stream",
     "text": [
      "['Eric', 'Kevin', 'Carlos', 'Mauricio', 'Teresa', 'Norma', 'Citlali', 'Marisol', 'Hilda', 'Salvador']\n",
      "['Eric', 'Kevin', 'Carlos', 'Mauricio', 'Teresa', 'Norma', 'Citlali', 'Marisol']\n",
      "['Hilda', 'Salvador']\n"
     ]
    }
   ],
   "source": [
    "# 1) Unpack siblings and parents from family_members\n",
    "print(family_members)\n",
    "siblings = family_members[0:8]\n",
    "parents = family_members[8:]\n",
    "print(siblings)\n",
    "print(parents)"
   ]
  },
  {
   "cell_type": "code",
   "execution_count": 36,
   "metadata": {},
   "outputs": [
    {
     "name": "stdout",
     "output_type": "stream",
     "text": [
      "('orange', 'banana', 'apple', 'tomato', 'spinach', 'carrot', 'cat', 'dog', 'wolf')\n",
      "['orange', 'banana', 'apple', 'tomato', 'spinach', 'carrot', 'cat', 'dog', 'wolf']\n",
      "4\n",
      "spinach\n",
      "['orange', 'banana', 'apple']\n",
      "['cat', 'dog', 'wolf']\n",
      "False\n",
      "True\n"
     ]
    }
   ],
   "source": [
    "# 2) Create fruits, vegetables and animal products tuples. Join the three tuples and assign it to a variable called food_stuff_tp.\n",
    "\n",
    "fruits = ('orange', 'banana', 'apple')\n",
    "vegetables = ('tomato', 'spinach', 'carrot')\n",
    "animal = ('cat', 'dog', 'wolf')\n",
    "food_stuff_tp = fruits + vegetables + animal\n",
    "print(food_stuff_tp)\n",
    "\n",
    "# 3) Change the about food_stuff_tp tuple to a food_stuff_lt list\n",
    "food_stuff_lt = list(food_stuff_tp)\n",
    "print(food_stuff_lt)\n",
    "\n",
    "# 4) Slice out the middle item or items from the food_stuff_tp tuple or food_stuff_lt list.\n",
    "middle_index = (len(food_stuff_tp)//2)\n",
    "middle_item = food_stuff_tp[4]\n",
    "print(middle_index)\n",
    "print(middle_item)\n",
    "\n",
    "# 5) Slice out the first three items and the last three items from food_staff_lt list\n",
    "\n",
    "first_three = food_stuff_lt[0:3]\n",
    "last_thre = food_stuff_lt[-3:]\n",
    "\n",
    "print(first_three)\n",
    "print(last_thre)\n",
    "\n",
    "# 6) Delete the food_staff_tp tuple completely\n",
    "del food_stuff_tp\n",
    "\n",
    "# 7) Check if an item exists in tuple:\n",
    "\n",
    "# Check if 'Estonia' is a nordic country\n",
    "# Check if 'Iceland' is a nordic country\n",
    "\n",
    "\n",
    "\n",
    "nordic_countries = ('Denmark', 'Finland','Iceland', 'Norway', 'Sweden')\n",
    "print('Estonia' in nordic_countries)\n",
    "print('Iceland' in nordic_countries)\n"
   ]
  }
 ],
 "metadata": {
  "kernelspec": {
   "display_name": "Python 3",
   "language": "python",
   "name": "python3"
  },
  "language_info": {
   "codemirror_mode": {
    "name": "ipython",
    "version": 3
   },
   "file_extension": ".py",
   "mimetype": "text/x-python",
   "name": "python",
   "nbconvert_exporter": "python",
   "pygments_lexer": "ipython3",
   "version": "3.12.0"
  }
 },
 "nbformat": 4,
 "nbformat_minor": 2
}
