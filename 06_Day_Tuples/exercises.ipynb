{
 "cells": [
  {
   "cell_type": "code",
   "execution_count": 3,
   "metadata": {},
   "outputs": [
    {
     "name": "stdout",
     "output_type": "stream",
     "text": [
      "('orange', 'mango')\n",
      "('orange', 'mango', 'lemon')\n"
     ]
    }
   ],
   "source": [
    "# Slicing tuples\n",
    "#We can slice out a sub-tuple by specifying a range of indexes where to start and where to end in the tuple, the return value will be a new tuple with the specified items.\n",
    "\n",
    "# Syntax\n",
    "# tpl = ('item1', 'item2', 'item3','item4')\n",
    "# all_items = tpl[0:4]         # all items\n",
    "# all_items = tpl[0:]         # all items\n",
    "# middle_two_items = tpl[1:3]  # does not include item at index 3\n",
    "\n",
    "fruits = ('banana', 'orange', 'mango', 'lemon')\n",
    "all_fruits = fruits[0:4]    # all items\n",
    "all_fruits= fruits[0:]      # all items\n",
    "orange_mango = fruits[1:3]  # doesn't include item at index 3\n",
    "orange_to_the_rest = fruits[1:]\n",
    "print(orange_mango)\n",
    "print(orange_to_the_rest)"
   ]
  },
  {
   "cell_type": "markdown",
   "metadata": {},
   "source": [
    "# Changing Tuples to Lists\n",
    "We can change tuples to lists and lists to tuples. Tuple is immutable if we want to modify a tuple we should change it to a list."
   ]
  },
  {
   "cell_type": "code",
   "execution_count": 4,
   "metadata": {},
   "outputs": [
    {
     "name": "stdout",
     "output_type": "stream",
     "text": [
      "['apple', 'orange', 'mango', 'lemon']\n",
      "('apple', 'orange', 'mango', 'lemon')\n"
     ]
    }
   ],
   "source": [
    "# Syntax\n",
    "tpl = ('item1', 'item2', 'item3','item4')\n",
    "lst = list(tpl)\n",
    "\n",
    "fruits = ('banana', 'orange', 'mango', 'lemon')\n",
    "fruits = list(fruits)\n",
    "fruits[0] = 'apple'\n",
    "print(fruits)     # ['apple', 'orange', 'mango', 'lemon']\n",
    "fruits = tuple(fruits)\n",
    "print(fruits)     # ('apple', 'orange', 'mango', 'lemon')"
   ]
  },
  {
   "cell_type": "markdown",
   "metadata": {},
   "source": [
    "# Checking an Item in a Tuple\n",
    "We can check if an item exists or not in a tuple using in, it returns a boolean."
   ]
  },
  {
   "cell_type": "code",
   "execution_count": 5,
   "metadata": {},
   "outputs": [
    {
     "name": "stdout",
     "output_type": "stream",
     "text": [
      "True\n",
      "False\n"
     ]
    },
    {
     "ename": "TypeError",
     "evalue": "'tuple' object does not support item assignment",
     "output_type": "error",
     "traceback": [
      "\u001b[1;31m---------------------------------------------------------------------------\u001b[0m",
      "\u001b[1;31mTypeError\u001b[0m                                 Traceback (most recent call last)",
      "\u001b[1;32mc:\\Users\\sambriz\\Desktop\\Salva\\30-Days-Of-Python\\06_Day_Tuples\\exercises.ipynb Cell 5\u001b[0m line \u001b[0;36m8\n\u001b[0;32m      <a href='vscode-notebook-cell:/c%3A/Users/sambriz/Desktop/Salva/30-Days-Of-Python/06_Day_Tuples/exercises.ipynb#W6sZmlsZQ%3D%3D?line=5'>6</a>\u001b[0m \u001b[39mprint\u001b[39m(\u001b[39m'\u001b[39m\u001b[39morange\u001b[39m\u001b[39m'\u001b[39m \u001b[39min\u001b[39;00m fruits) \u001b[39m# True\u001b[39;00m\n\u001b[0;32m      <a href='vscode-notebook-cell:/c%3A/Users/sambriz/Desktop/Salva/30-Days-Of-Python/06_Day_Tuples/exercises.ipynb#W6sZmlsZQ%3D%3D?line=6'>7</a>\u001b[0m \u001b[39mprint\u001b[39m(\u001b[39m'\u001b[39m\u001b[39mapple\u001b[39m\u001b[39m'\u001b[39m \u001b[39min\u001b[39;00m fruits) \u001b[39m# False\u001b[39;00m\n\u001b[1;32m----> <a href='vscode-notebook-cell:/c%3A/Users/sambriz/Desktop/Salva/30-Days-Of-Python/06_Day_Tuples/exercises.ipynb#W6sZmlsZQ%3D%3D?line=7'>8</a>\u001b[0m fruits[\u001b[39m0\u001b[39;49m] \u001b[39m=\u001b[39m \u001b[39m'\u001b[39m\u001b[39mapple\u001b[39m\u001b[39m'\u001b[39m \u001b[39m# TypeError: 'tuple' object does not support item assignment\u001b[39;00m\n",
      "\u001b[1;31mTypeError\u001b[0m: 'tuple' object does not support item assignment"
     ]
    }
   ],
   "source": [
    "# Syntax\n",
    "tpl = ('item1', 'item2', 'item3','item4')\n",
    "'item2' in tpl # True\n",
    "\n",
    "fruits = ('banana', 'orange', 'mango', 'lemon')\n",
    "print('orange' in fruits) # True\n",
    "print('apple' in fruits) # False\n",
    "fruits[0] = 'apple' # TypeError: 'tuple' object does not support item assignment\n"
   ]
  },
  {
   "cell_type": "markdown",
   "metadata": {},
   "source": [
    "# Joining Tuples\n",
    "We can join two or more tuples using + operator"
   ]
  },
  {
   "cell_type": "code",
   "execution_count": 8,
   "metadata": {},
   "outputs": [
    {
     "name": "stdout",
     "output_type": "stream",
     "text": [
      "('item1', 'item2', 'item3', 'item4', 'item5', 'item6')\n",
      "('banana', 'orange', 'mango', 'lemon', 'Tomato', 'Potato', 'Cabbage', 'Onion', 'Carrot')\n"
     ]
    }
   ],
   "source": [
    "# syntax\n",
    "tpl1 = ('item1', 'item2', 'item3')\n",
    "tpl2 = ('item4', 'item5','item6')\n",
    "tpl3 = tpl1 + tpl2\n",
    "print(tpl3)\n",
    "\n",
    "fruits = ('banana', 'orange', 'mango', 'lemon')\n",
    "vegetables = ('Tomato', 'Potato', 'Cabbage','Onion', 'Carrot')\n",
    "fruits_and_vegetables = fruits + vegetables\n",
    "print(fruits_and_vegetables)"
   ]
  },
  {
   "cell_type": "markdown",
   "metadata": {},
   "source": [
    "## Deleting Tuples\n",
    "It is not possible to remove a single item in a tuple but it is possible to delete the tuple itself using del."
   ]
  },
  {
   "cell_type": "code",
   "execution_count": 9,
   "metadata": {},
   "outputs": [
    {
     "ename": "NameError",
     "evalue": "name 'fruits' is not defined",
     "output_type": "error",
     "traceback": [
      "\u001b[1;31m---------------------------------------------------------------------------\u001b[0m",
      "\u001b[1;31mNameError\u001b[0m                                 Traceback (most recent call last)",
      "\u001b[1;32mc:\\Users\\sambriz\\Desktop\\Salva\\30-Days-Of-Python\\06_Day_Tuples\\exercises.ipynb Cell 9\u001b[0m line \u001b[0;36m8\n\u001b[0;32m      <a href='vscode-notebook-cell:/c%3A/Users/sambriz/Desktop/Salva/30-Days-Of-Python/06_Day_Tuples/exercises.ipynb#X13sZmlsZQ%3D%3D?line=4'>5</a>\u001b[0m fruits \u001b[39m=\u001b[39m (\u001b[39m'\u001b[39m\u001b[39mbanana\u001b[39m\u001b[39m'\u001b[39m, \u001b[39m'\u001b[39m\u001b[39morange\u001b[39m\u001b[39m'\u001b[39m, \u001b[39m'\u001b[39m\u001b[39mmango\u001b[39m\u001b[39m'\u001b[39m, \u001b[39m'\u001b[39m\u001b[39mlemon\u001b[39m\u001b[39m'\u001b[39m)\n\u001b[0;32m      <a href='vscode-notebook-cell:/c%3A/Users/sambriz/Desktop/Salva/30-Days-Of-Python/06_Day_Tuples/exercises.ipynb#X13sZmlsZQ%3D%3D?line=5'>6</a>\u001b[0m \u001b[39mdel\u001b[39;00m fruits\n\u001b[1;32m----> <a href='vscode-notebook-cell:/c%3A/Users/sambriz/Desktop/Salva/30-Days-Of-Python/06_Day_Tuples/exercises.ipynb#X13sZmlsZQ%3D%3D?line=7'>8</a>\u001b[0m \u001b[39mprint\u001b[39m(fruits)\n",
      "\u001b[1;31mNameError\u001b[0m: name 'fruits' is not defined"
     ]
    }
   ],
   "source": [
    "# syntax\n",
    "tpl1 = ('item1', 'item2', 'item3')\n",
    "del tpl1\n",
    "\n",
    "fruits = ('banana', 'orange', 'mango', 'lemon')\n",
    "del fruits\n",
    "\n",
    "print(fruits)\n"
   ]
  }
 ],
 "metadata": {
  "kernelspec": {
   "display_name": "Python 3",
   "language": "python",
   "name": "python3"
  },
  "language_info": {
   "codemirror_mode": {
    "name": "ipython",
    "version": 3
   },
   "file_extension": ".py",
   "mimetype": "text/x-python",
   "name": "python",
   "nbconvert_exporter": "python",
   "pygments_lexer": "ipython3",
   "version": "3.12.0"
  }
 },
 "nbformat": 4,
 "nbformat_minor": 2
}
