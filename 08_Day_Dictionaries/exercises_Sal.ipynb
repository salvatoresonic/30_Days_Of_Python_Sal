{
 "cells": [
  {
   "cell_type": "code",
   "execution_count": 10,
   "metadata": {},
   "outputs": [
    {
     "name": "stdout",
     "output_type": "stream",
     "text": [
      "9\n",
      "['Python', 'Html', 'CSS', 'Javascript']\n",
      "<class 'list'>\n",
      "['Python', 'Html', 'CSS', 'Javascript', 'SAP']\n",
      "dict_keys(['first_name', 'last_name', 'gender', 'age', 'marital_status', 'skills', 'country', 'city', 'address'])\n",
      "dict_values(['Salvador', 'Ambriz', 'male', '33', 'single', ['Python', 'Html', 'CSS', 'Javascript', 'SAP'], 'Mexico', 'CDMX', {'street': 'Lago Cuitzeo', 'del': 'Miguel Hidalgo', 'zipcode': 11320}])\n",
      "dict_items([('first_name', 'Salvador'), ('last_name', 'Ambriz'), ('gender', 'male'), ('age', '33'), ('marital_status', 'single'), ('skills', ['Python', 'Html', 'CSS', 'Javascript', 'SAP']), ('country', 'Mexico'), ('city', 'CDMX'), ('address', {'street': 'Lago Cuitzeo', 'del': 'Miguel Hidalgo', 'zipcode': 11320})])\n",
      "{'first_name': 'Salvador', 'gender': 'male', 'age': '33', 'marital_status': 'single', 'skills': ['Python', 'Html', 'CSS', 'Javascript', 'SAP'], 'country': 'Mexico', 'city': 'CDMX', 'address': {'street': 'Lago Cuitzeo', 'del': 'Miguel Hidalgo', 'zipcode': 11320}}\n"
     ]
    },
    {
     "ename": "NameError",
     "evalue": "name 'student' is not defined",
     "output_type": "error",
     "traceback": [
      "\u001b[1;31m---------------------------------------------------------------------------\u001b[0m",
      "\u001b[1;31mNameError\u001b[0m                                 Traceback (most recent call last)",
      "Cell \u001b[1;32mIn[10], line 52\u001b[0m\n\u001b[0;32m     49\u001b[0m \u001b[38;5;66;03m# 11) Delete one of the dictionaries\u001b[39;00m\n\u001b[0;32m     51\u001b[0m \u001b[38;5;28;01mdel\u001b[39;00m student\n\u001b[1;32m---> 52\u001b[0m \u001b[38;5;28mprint\u001b[39m(\u001b[43mstudent\u001b[49m)\n",
      "\u001b[1;31mNameError\u001b[0m: name 'student' is not defined"
     ]
    }
   ],
   "source": [
    "# 1) Create an empty dictionary called dog\n",
    "\n",
    "dog = {}\n",
    "\n",
    "# 2) Add name, color, breed, legs, age to the dog dictionary\n",
    "\n",
    "dog = {'name':'coffee', 'color':'brown', 'breed':'rotwailer','legs':4, 'age': 3}\n",
    "\n",
    "# 3) Create a student dictionary and add first_name, last_name, gender, age, marital status, skills, country, city and address as keys for the dictionary\n",
    "\n",
    "student = {'first_name':'Salvador', 'last_name':'Ambriz', 'gender':'male', 'age': '33', 'marital_status': 'single', 'skills':['Python','Html','CSS', 'Javascript'], 'country':'Mexico', 'city':'CDMX', 'address':{'street':'Lago Cuitzeo', 'del':'Miguel Hidalgo', 'zipcode':11320} }\n",
    "\n",
    "# 4) Get the length of the student dictionary\n",
    "\n",
    "print(len(student))\n",
    "\n",
    "# 5) Get the value of skills and check the data type, it should be a list\n",
    "\n",
    "print(student['skills'])\n",
    "print(type(student['skills']))\n",
    "\n",
    "# 6) Modify the skills values by adding one or two skills\n",
    "\n",
    "student['skills'].append('SAP')\n",
    "print(student['skills'])\n",
    "\n",
    "# 7) Get the dictionary keys as a list\n",
    "\n",
    "dct_keys = student.keys()\n",
    "print(dct_keys)\n",
    "\n",
    "\n",
    "# 8) Get the dictionary values as a list\n",
    "\n",
    "dct_values = student.values()\n",
    "print(dct_values)\n",
    "\n",
    "# 9) Change the dictionary to a list of tuples using items() method\n",
    "\n",
    "dct_tuple = student.items()\n",
    "print(dct_tuple)\n",
    "\n",
    "# 10) Delete one of the items in the dictionary\n",
    "\n",
    "student.pop('last_name')\n",
    "print(student)\n",
    "\n",
    "\n",
    "# 11) Delete one of the dictionaries\n",
    "\n",
    "del student\n",
    "print(student)"
   ]
  }
 ],
 "metadata": {
  "kernelspec": {
   "display_name": "Python 3",
   "language": "python",
   "name": "python3"
  },
  "language_info": {
   "codemirror_mode": {
    "name": "ipython",
    "version": 3
   },
   "file_extension": ".py",
   "mimetype": "text/x-python",
   "name": "python",
   "nbconvert_exporter": "python",
   "pygments_lexer": "ipython3",
   "version": "3.12.0"
  }
 },
 "nbformat": 4,
 "nbformat_minor": 2
}
