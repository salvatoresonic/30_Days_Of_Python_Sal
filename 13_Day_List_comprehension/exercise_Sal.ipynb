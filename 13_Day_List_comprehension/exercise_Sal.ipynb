{
 "cells": [
  {
   "cell_type": "code",
   "execution_count": 2,
   "metadata": {},
   "outputs": [
    {
     "name": "stdout",
     "output_type": "stream",
     "text": [
      "[-4, -3, -2, -1, 0]\n"
     ]
    }
   ],
   "source": [
    "# 1) Filter only negative and zero in the list using list comprehension\n",
    "\n",
    "numbers = [-4, -3, -2, -1, 0, 2, 4, 6]\n",
    "\n",
    "negative_zero = [i for i in numbers if i <= 0]\n",
    "print(negative_zero)"
   ]
  },
  {
   "cell_type": "code",
   "execution_count": 9,
   "metadata": {},
   "outputs": [
    {
     "name": "stdout",
     "output_type": "stream",
     "text": [
      "[1, 2, 3, 4, 5, 6, 7, 8, 9]\n"
     ]
    }
   ],
   "source": [
    "# 2) Flatten the following list of lists of lists to a one dimensional list :\n",
    "\n",
    "list_of_lists =[[[1, 2, 3]], [[4, 5, 6]], [[7, 8, 9]]]\n",
    "\n",
    "# output [1, 2, 3, 4, 5, 6, 7, 8, 9]\n",
    "\n",
    "flattened_list = [number for sublist1 in list_of_lists for sublist2 in sublist1 for number in sublist2]\n",
    "print(flattened_list)\n",
    "\n"
   ]
  },
  {
   "cell_type": "code",
   "execution_count": 19,
   "metadata": {},
   "outputs": [
    {
     "name": "stdout",
     "output_type": "stream",
     "text": [
      "[(0, 1, 0, 0, 0, 0, 0), (1, 1, 1, 1, 1, 1, 1), (2, 1, 2, 4, 8, 16, 32), (3, 1, 3, 9, 27, 81, 243), (4, 1, 4, 16, 64, 256, 1024), (5, 1, 5, 25, 125, 625, 3125), (6, 1, 6, 36, 216, 1296, 7776), (7, 1, 7, 49, 343, 2401, 16807), (8, 1, 8, 64, 512, 4096, 32768), (9, 1, 9, 81, 729, 6561, 59049), (10, 1, 10, 100, 1000, 10000, 100000)]\n"
     ]
    }
   ],
   "source": [
    "# 3) Using list comprehension create the following list of tuples:\n",
    "\n",
    "# [(0, 1, 0, 0, 0, 0, 0),\n",
    "# (1, 1, 1, 1, 1, 1, 1),\n",
    "# (2, 1, 2, 4, 8, 16, 32),\n",
    "# (3, 1, 3, 9, 27, 81, 243),\n",
    "# (4, 1, 4, 16, 64, 256, 1024),\n",
    "# (5, 1, 5, 25, 125, 625, 3125),\n",
    "# (6, 1, 6, 36, 216, 1296, 7776),\n",
    "# (7, 1, 7, 49, 343, 2401, 16807), \n",
    "# (8, 1, 8, 64, 512, 4096, 32768),\n",
    "# (9, 1, 9, 81, 729, 6561, 59049),\n",
    "# (10, 1, 10, 100, 1000, 10000, 100000)]\n",
    "\n",
    "list_tuples = [(i,1 ,i,i * i, i**3, i**4,i**5) for i in range(11)]\n",
    "\n",
    "print(list_tuples)"
   ]
  },
  {
   "cell_type": "code",
   "execution_count": 27,
   "metadata": {},
   "outputs": [
    {
     "name": "stdout",
     "output_type": "stream",
     "text": [
      "[['Finland', 'FIN', 'Helsinki'], ['Sweden', 'SWE', 'Stockholm'], ['Norway', 'NOR', 'Oslo']]\n"
     ]
    }
   ],
   "source": [
    "# 4) Flatten the following list to a new list:\n",
    "countries = [[('Finland', 'Helsinki')], [('Sweden', 'Stockholm')], [('Norway', 'Oslo')]]\n",
    "\n",
    "# output: [['FINLAND','FIN', 'HELSINKI'], ['SWEDEN', 'SWE', 'STOCKHOLM'], ['NORWAY', 'NOR', 'OSLO']]\n",
    "\n",
    "flattened_list = [[countrie, countrie[:3].upper(), capital] for sublist in countries for countrie, capital in sublist]\n",
    "\n",
    "print(flattened_list)"
   ]
  },
  {
   "cell_type": "code",
   "execution_count": 32,
   "metadata": {},
   "outputs": [
    {
     "name": "stdout",
     "output_type": "stream",
     "text": [
      "[{'country:': 'Finland', 'city': 'Helsinki'}, {'country:': 'Sweden', 'city': 'Stockholm'}, {'country:': 'Norway', 'city': 'Oslo'}]\n"
     ]
    }
   ],
   "source": [
    "# 5) Change the following list to a list of dictionaries:\n",
    "\n",
    "countries = [[('Finland', 'Helsinki')], [('Sweden', 'Stockholm')], [('Norway', 'Oslo')]]\n",
    "\n",
    "# output:\n",
    "# [{'country': 'FINLAND', 'city': 'HELSINKI'},\n",
    "# {'country': 'SWEDEN', 'city': 'STOCKHOLM'},\n",
    "# {'country': 'NORWAY', 'city': 'OSLO'}]\n",
    "\n",
    "flat_list = [{'country:': country, 'city': capital} for sublist in countries for country, capital in sublist]\n",
    "print(flat_list)\n"
   ]
  },
  {
   "cell_type": "code",
   "execution_count": 39,
   "metadata": {},
   "outputs": [
    {
     "name": "stdout",
     "output_type": "stream",
     "text": [
      "['Asabeneh Yetayeh', 'David Smith', 'Donald Trump', 'Bill Gates']\n"
     ]
    }
   ],
   "source": [
    "# 6) Change the following list of lists to a list of concatenated strings:\n",
    "\n",
    "names = [[('Asabeneh', 'Yetayeh')], [('David', 'Smith')], [('Donald', 'Trump')], [('Bill', 'Gates')]]\n",
    "# output\n",
    "# ['Asabeneh Yetaeyeh', 'David Smith', 'Donald Trump', 'Bill Gates']\n",
    "\n",
    "flat_list = [(name + \" \"+ surname) for sublist in names for name, surname in sublist]\n",
    "\n",
    "print(flat_list)\n"
   ]
  }
 ],
 "metadata": {
  "kernelspec": {
   "display_name": "Python 3",
   "language": "python",
   "name": "python3"
  },
  "language_info": {
   "codemirror_mode": {
    "name": "ipython",
    "version": 3
   },
   "file_extension": ".py",
   "mimetype": "text/x-python",
   "name": "python",
   "nbconvert_exporter": "python",
   "pygments_lexer": "ipython3",
   "version": "3.12.0"
  }
 },
 "nbformat": 4,
 "nbformat_minor": 2
}
