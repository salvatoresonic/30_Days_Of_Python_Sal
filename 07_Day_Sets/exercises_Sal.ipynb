{
 "cells": [
  {
   "cell_type": "code",
   "execution_count": 7,
   "metadata": {},
   "outputs": [
    {
     "name": "stdout",
     "output_type": "stream",
     "text": [
      "7\n",
      "{'Twitter', 'Facebook', 'Google', 'Amazon', 'Microsoft', 'IBM', 'Oracle', 'Apple'}\n",
      "{'Google', 'IBM', 'Oracle', 'Apple', 'Sap', 'Facebook', 'Mozilla', 'Microsoft', 'Twitter', 'Meta', 'Amazon'}\n"
     ]
    },
    {
     "ename": "KeyError",
     "evalue": "'IBn'",
     "output_type": "error",
     "traceback": [
      "\u001b[1;31m---------------------------------------------------------------------------\u001b[0m",
      "\u001b[1;31mKeyError\u001b[0m                                  Traceback (most recent call last)",
      "\u001b[1;32mc:\\Users\\sambriz\\Desktop\\Salva\\30-Days-Of-Python\\07_Day_Sets\\exercises_Sal.ipynb Cell 1\u001b[0m line \u001b[0;36m2\n\u001b[0;32m     <a href='vscode-notebook-cell:/c%3A/Users/sambriz/Desktop/Salva/30-Days-Of-Python/07_Day_Sets/exercises_Sal.ipynb#W0sZmlsZQ%3D%3D?line=19'>20</a>\u001b[0m \u001b[39m# 4) Remove one of the companies from the set it_companies\u001b[39;00m\n\u001b[0;32m     <a href='vscode-notebook-cell:/c%3A/Users/sambriz/Desktop/Salva/30-Days-Of-Python/07_Day_Sets/exercises_Sal.ipynb#W0sZmlsZQ%3D%3D?line=20'>21</a>\u001b[0m it_companies\u001b[39m.\u001b[39mdiscard(\u001b[39m'\u001b[39m\u001b[39mIBn\u001b[39m\u001b[39m'\u001b[39m)\n\u001b[1;32m---> <a href='vscode-notebook-cell:/c%3A/Users/sambriz/Desktop/Salva/30-Days-Of-Python/07_Day_Sets/exercises_Sal.ipynb#W0sZmlsZQ%3D%3D?line=21'>22</a>\u001b[0m it_companies\u001b[39m.\u001b[39;49mremove(\u001b[39m'\u001b[39;49m\u001b[39mIBn\u001b[39;49m\u001b[39m'\u001b[39;49m)\n\u001b[0;32m     <a href='vscode-notebook-cell:/c%3A/Users/sambriz/Desktop/Salva/30-Days-Of-Python/07_Day_Sets/exercises_Sal.ipynb#W0sZmlsZQ%3D%3D?line=22'>23</a>\u001b[0m \u001b[39mprint\u001b[39m(it_companies)\n\u001b[0;32m     <a href='vscode-notebook-cell:/c%3A/Users/sambriz/Desktop/Salva/30-Days-Of-Python/07_Day_Sets/exercises_Sal.ipynb#W0sZmlsZQ%3D%3D?line=24'>25</a>\u001b[0m \u001b[39m# 5) What is the difference between remove and discard\u001b[39;00m\n\u001b[0;32m     <a href='vscode-notebook-cell:/c%3A/Users/sambriz/Desktop/Salva/30-Days-Of-Python/07_Day_Sets/exercises_Sal.ipynb#W0sZmlsZQ%3D%3D?line=25'>26</a>\u001b[0m \u001b[39m# When u use remove()\u001b[39;00m\n",
      "\u001b[1;31mKeyError\u001b[0m: 'IBn'"
     ]
    }
   ],
   "source": [
    "# Exercises: Level 1\n",
    "\n",
    "# sets\n",
    "it_companies = {'Facebook', 'Google', 'Microsoft', 'Apple', 'IBM', 'Oracle', 'Amazon'}\n",
    "A = {19, 22, 24, 20, 25, 26}\n",
    "B = {19, 22, 20, 25, 26, 24, 28, 27}\n",
    "age = [22, 19, 24, 25, 26, 24, 25, 24]\n",
    "\n",
    "# 1) Find the length of the set it_companies\n",
    "print(len(it_companies))\n",
    "\n",
    "# 2) Add 'Twitter' to it_companies\n",
    "it_companies.add('Twitter')\n",
    "print(it_companies)\n",
    "\n",
    "# 3) Insert multiple IT companies at once to the set it_companies\n",
    "it_companies.update(['Meta', 'Sap', 'Mozilla'])\n",
    "print(it_companies)\n",
    "\n",
    "# 4) Remove one of the companies from the set it_companies\n",
    "it_companies.discard('IBn')\n",
    "it_companies.remove('IBn')\n",
    "print(it_companies)\n",
    "\n",
    "# 5) What is the difference between remove and discard\n",
    "# When u use remove() method if the item is not found it will raise errors, however discard() method doesnt raise any error\n"
   ]
  },
  {
   "cell_type": "code",
   "execution_count": 26,
   "metadata": {},
   "outputs": [
    {
     "name": "stdout",
     "output_type": "stream",
     "text": [
      "{19, 20, 22, 24, 25, 26, 27, 28}\n",
      "{19, 20, 22, 24, 25, 26}\n",
      "True\n",
      "False\n",
      "{19, 20, 22, 24, 25, 26, 27, 28}\n",
      "{19, 20, 22, 24, 25, 26, 27, 28}\n",
      "{27, 28}\n"
     ]
    },
    {
     "ename": "NameError",
     "evalue": "name 'A' is not defined",
     "output_type": "error",
     "traceback": [
      "\u001b[1;31m---------------------------------------------------------------------------\u001b[0m",
      "\u001b[1;31mNameError\u001b[0m                                 Traceback (most recent call last)",
      "\u001b[1;32mc:\\Users\\sambriz\\Desktop\\Salva\\30-Days-Of-Python\\07_Day_Sets\\exercises_Sal.ipynb Cell 2\u001b[0m line \u001b[0;36m3\n\u001b[0;32m     <a href='vscode-notebook-cell:/c%3A/Users/sambriz/Desktop/Salva/30-Days-Of-Python/07_Day_Sets/exercises_Sal.ipynb#W1sZmlsZQ%3D%3D?line=29'>30</a>\u001b[0m \u001b[39mdel\u001b[39;00m A\n\u001b[0;32m     <a href='vscode-notebook-cell:/c%3A/Users/sambriz/Desktop/Salva/30-Days-Of-Python/07_Day_Sets/exercises_Sal.ipynb#W1sZmlsZQ%3D%3D?line=30'>31</a>\u001b[0m \u001b[39mdel\u001b[39;00m B\n\u001b[1;32m---> <a href='vscode-notebook-cell:/c%3A/Users/sambriz/Desktop/Salva/30-Days-Of-Python/07_Day_Sets/exercises_Sal.ipynb#W1sZmlsZQ%3D%3D?line=31'>32</a>\u001b[0m \u001b[39mprint\u001b[39m(A)\n\u001b[0;32m     <a href='vscode-notebook-cell:/c%3A/Users/sambriz/Desktop/Salva/30-Days-Of-Python/07_Day_Sets/exercises_Sal.ipynb#W1sZmlsZQ%3D%3D?line=32'>33</a>\u001b[0m \u001b[39mprint\u001b[39m(B)\n",
      "\u001b[1;31mNameError\u001b[0m: name 'A' is not defined"
     ]
    }
   ],
   "source": [
    "# Exercises: Level 2\n",
    "# sets\n",
    "\n",
    "it_companies = {'Facebook', 'Google', 'Microsoft', 'Apple', 'IBM', 'Oracle', 'Amazon'}\n",
    "A = {19, 22, 24, 20, 25, 26}\n",
    "B = {19, 22, 20, 25, 26, 24, 28, 27}\n",
    "age = [22, 19, 24, 25, 26, 24, 25, 24]\n",
    "\n",
    "# 1) Join A and B\n",
    "print(A.union(B))\n",
    "\n",
    "# 2) Find A intersection B\n",
    "print(A.intersection(B))\n",
    "\n",
    "# 3) Is A subset of B\n",
    "print(A.issubset(B))\n",
    "\n",
    "# 4) Are A and B disjoint sets\n",
    "print(A.isdisjoint(B)) #False bc the have common items\n",
    "\n",
    "# 5) Join A with B and B with A\n",
    "print(A.union(B))\n",
    "B.update(A)\n",
    "print(B)\n",
    "\n",
    "# 6) What is the symmetric difference between A and B\n",
    "print(A.symmetric_difference(B))\n",
    "\n",
    "# 7) Delete the sets completely\n",
    "del A\n",
    "del B\n",
    "print(A)\n",
    "print(B)\n"
   ]
  },
  {
   "cell_type": "code",
   "execution_count": 1,
   "metadata": {},
   "outputs": [
    {
     "name": "stdout",
     "output_type": "stream",
     "text": [
      "8\n",
      "8\n",
      "['I', 'am', 'a,', 'teacher', 'and', 'I', 'love', 'to', 'inspire', 'and', 'teach', 'people']\n",
      "{'to', 'a,', 'love', 'I', 'people', 'teacher', 'and', 'am', 'teach', 'inspire'}\n",
      "10\n"
     ]
    }
   ],
   "source": [
    "# Exercises: Level 3\n",
    "\n",
    "# sets\n",
    "it_companies = {'Facebook', 'Google', 'Microsoft', 'Apple', 'IBM', 'Oracle', 'Amazon'}\n",
    "A = {19, 22, 24, 20, 25, 26}\n",
    "B = {19, 22, 20, 25, 26, 24, 28, 27}\n",
    "age = [22, 19, 24, 25, 26, 24, 25, 24]\n",
    "\n",
    "# 1) Convert the ages to a set and compare the length of the list and the set, which one is bigger?\n",
    "print(len(age))\n",
    "set(age)\n",
    "print(len(age))\n",
    "\n",
    "# They are the same length\n",
    "\n",
    "# 2) Explain the difference between the following data types: string, list, tuple and set\n",
    "\n",
    "    # string: This data type is used to store a sequence of characters. Strings in Python are immutable, which means once a string is created, it cannot be changed.\n",
    "\n",
    "    # list: A list is used to store a collection of items. Unlike strings, lists in Python are mutable, which means we can modify a list after it has been created. Lists can contain items of different data types, and the items in a list can be changed, meaning that lists are mutable.\n",
    "\n",
    "    # tuple: A tuple is similar to a list, but unlike lists, tuples are immutable. This means that once a tuple is created, we cannot change its value. Like lists, tuples can contain items of different data types, but since tuples are immutable, they cannot be changed after they have been created.\n",
    "\n",
    "    # set: A set is a collection of unique items. Unlike lists or tuples, the order of elements in a set does not matter. In addition, sets only allow unique elements, meaning that a set cannot contain duplicate items.\n",
    "\n",
    "\n",
    "# 3) I am a teacher and I love to inspire and teach people. How many unique words have been used in the sentence? Use the split methods and set to get the unique words.\n",
    "\n",
    "sentence = 'I am a, teacher and I love to inspire and teach people'\n",
    "words = sentence.split( )\n",
    "print(words)\n",
    "st_words = set(words)\n",
    "print(st_words)\n",
    "print(len(st_words))\n",
    "\n"
   ]
  }
 ],
 "metadata": {
  "kernelspec": {
   "display_name": "Python 3",
   "language": "python",
   "name": "python3"
  },
  "language_info": {
   "codemirror_mode": {
    "name": "ipython",
    "version": 3
   },
   "file_extension": ".py",
   "mimetype": "text/x-python",
   "name": "python",
   "nbconvert_exporter": "python",
   "pygments_lexer": "ipython3",
   "version": "3.12.0"
  }
 },
 "nbformat": 4,
 "nbformat_minor": 2
}
