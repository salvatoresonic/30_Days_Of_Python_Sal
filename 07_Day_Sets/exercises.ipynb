{
 "cells": [
  {
   "cell_type": "code",
   "execution_count": 1,
   "metadata": {},
   "outputs": [
    {
     "data": {
      "text/plain": [
       "4"
      ]
     },
     "execution_count": 1,
     "metadata": {},
     "output_type": "execute_result"
    }
   ],
   "source": [
    "fruits = {'banana', 'orange', 'mango', 'lemon'}\n",
    "len(fruits)"
   ]
  },
  {
   "cell_type": "code",
   "execution_count": 2,
   "metadata": {},
   "outputs": [
    {
     "name": "stdout",
     "output_type": "stream",
     "text": [
      "Does set st contain item3?  True\n"
     ]
    }
   ],
   "source": [
    "# syntax\n",
    "st = {'item1', 'item2', 'item3', 'item4'}\n",
    "print(\"Does set st contain item3? \", 'item3' in st) # Does set st contain item3? True"
   ]
  },
  {
   "cell_type": "code",
   "execution_count": 9,
   "metadata": {},
   "outputs": [
    {
     "name": "stdout",
     "output_type": "stream",
     "text": [
      "{'item2', 'item1', 'item3', 'item4', 'item5'}\n",
      "{'item2', 'item1', 'item3', 'item4', 'item7', 'item6', 'item5'}\n",
      "{'orange', 'potato', 'mango', 'onion', 'lemon', 'tomato', 'carrot', 'cabbage', 'banana'}\n"
     ]
    }
   ],
   "source": [
    "# Adding Items to a Set\n",
    "# Once a set is created we cannot change any items and we can also add additional items.\n",
    "\n",
    "# Add one item using add()\n",
    "# syntax\n",
    "st = {'item1', 'item2', 'item3', 'item4'}\n",
    "st.add('item5')\n",
    "print(st)\n",
    "\n",
    "# Add multiple items using update() The update() allows to add multiple items to a set. The update() takes a list argument.\n",
    "\n",
    "# syntax\n",
    "st = {'item1', 'item2', 'item3', 'item4'}\n",
    "st.update(['item5','item6','item7'])\n",
    "print(st)\n",
    "\n",
    "fruits = {'banana', 'orange', 'mango', 'lemon'}\n",
    "vegetables = ('tomato', 'potato', 'cabbage','onion', 'carrot')\n",
    "fruits.update(vegetables)\n",
    "print(fruits)"
   ]
  },
  {
   "cell_type": "markdown",
   "metadata": {},
   "source": [
    "# Removing Items from a Set\n",
    "We can remove an item from a set using remove() method. If the item is not found remove() method will raise errors, so it is good to check if the item exist in the given set. However, discard() method doesn't raise any errors."
   ]
  },
  {
   "cell_type": "code",
   "execution_count": 21,
   "metadata": {},
   "outputs": [
    {
     "name": "stdout",
     "output_type": "stream",
     "text": [
      "{'orange', 'lemon', 'banana'}\n",
      "{'orange', 'lemon', 'banana'}\n",
      "mango\n"
     ]
    }
   ],
   "source": [
    "fruits = {'banana', 'orange', 'mango', 'lemon'}\n",
    "fruits.pop()  # removes a random item from the set\n",
    "print(fruits)\n",
    "print(fruits)\n",
    "\n",
    "# If we are interested in the removed item.\n",
    "fruits = {'banana', 'orange', 'mango', 'lemon'}\n",
    "removed_item = fruits.pop() \n",
    "print(removed_item)\n"
   ]
  },
  {
   "cell_type": "code",
   "execution_count": 22,
   "metadata": {},
   "outputs": [
    {
     "name": "stdout",
     "output_type": "stream",
     "text": [
      "set()\n"
     ]
    }
   ],
   "source": [
    "# Clearing Items in a Set\n",
    "# If we want to clear or empty the set we use clear method.\n",
    "\n",
    "fruits = {'banana', 'orange', 'mango', 'lemon'}\n",
    "fruits.clear()\n",
    "print(fruits) # set()"
   ]
  },
  {
   "cell_type": "code",
   "execution_count": 25,
   "metadata": {},
   "outputs": [
    {
     "ename": "NameError",
     "evalue": "name 'fruits' is not defined",
     "output_type": "error",
     "traceback": [
      "\u001b[1;31m---------------------------------------------------------------------------\u001b[0m",
      "\u001b[1;31mNameError\u001b[0m                                 Traceback (most recent call last)",
      "\u001b[1;32mc:\\Users\\sambriz\\Desktop\\Salva\\30-Days-Of-Python\\07_Day_Sets\\exercises.ipynb Cell 7\u001b[0m line \u001b[0;36m6\n\u001b[0;32m      <a href='vscode-notebook-cell:/c%3A/Users/sambriz/Desktop/Salva/30-Days-Of-Python/07_Day_Sets/exercises.ipynb#W6sZmlsZQ%3D%3D?line=3'>4</a>\u001b[0m fruits \u001b[39m=\u001b[39m {\u001b[39m'\u001b[39m\u001b[39mbanana\u001b[39m\u001b[39m'\u001b[39m, \u001b[39m'\u001b[39m\u001b[39morange\u001b[39m\u001b[39m'\u001b[39m, \u001b[39m'\u001b[39m\u001b[39mmango\u001b[39m\u001b[39m'\u001b[39m, \u001b[39m'\u001b[39m\u001b[39mlemon\u001b[39m\u001b[39m'\u001b[39m}\n\u001b[0;32m      <a href='vscode-notebook-cell:/c%3A/Users/sambriz/Desktop/Salva/30-Days-Of-Python/07_Day_Sets/exercises.ipynb#W6sZmlsZQ%3D%3D?line=4'>5</a>\u001b[0m \u001b[39mdel\u001b[39;00m fruits\n\u001b[1;32m----> <a href='vscode-notebook-cell:/c%3A/Users/sambriz/Desktop/Salva/30-Days-Of-Python/07_Day_Sets/exercises.ipynb#W6sZmlsZQ%3D%3D?line=5'>6</a>\u001b[0m \u001b[39mprint\u001b[39m(fruits)\n",
      "\u001b[1;31mNameError\u001b[0m: name 'fruits' is not defined"
     ]
    }
   ],
   "source": [
    "# Deleting a Set\n",
    "# If we want to delete the set itself we use del operator.\n",
    "\n",
    "fruits = {'banana', 'orange', 'mango', 'lemon'}\n",
    "del fruits\n",
    "print(fruits)\n"
   ]
  },
  {
   "cell_type": "code",
   "execution_count": 26,
   "metadata": {},
   "outputs": [
    {
     "name": "stdout",
     "output_type": "stream",
     "text": [
      "{'mango', 'orange', 'lemon', 'banana'}\n"
     ]
    }
   ],
   "source": [
    "# Converting List to Set\n",
    "# We can convert list to set and set to list. Converting list to set removes duplicates and only unique items will be reserved.\n",
    "\n",
    "# syntax\n",
    "# lst = ['item1', 'item2', 'item3', 'item4', 'item1']\n",
    "#  st = set(lst)  # {'item2', 'item4', 'item1', 'item3'} - the order is random, because sets in general are unordered\n",
    "\n",
    "fruits = ['banana', 'orange', 'mango', 'lemon','orange', 'banana']\n",
    "fruits_st = set(fruits) # {'mango', 'lemon', 'banana', 'orange'}\n",
    "print(fruits_st)"
   ]
  },
  {
   "cell_type": "code",
   "execution_count": 30,
   "metadata": {},
   "outputs": [
    {
     "name": "stdout",
     "output_type": "stream",
     "text": [
      "{'orange', 'potato', 'mango', 'onion', 'lemon', 'tomato', 'carrot', 'cabbage', 'banana'}\n",
      "{'orange', 'potato', 'mango', 'onion', 'lemon', 'tomato', 'carrot', 'cabbage', 'banana'}\n",
      "{'orange', 'potato', 'mango', 'onion', 'lemon', 'tomato', 'carrot', 'cabbage', 'banana'}\n"
     ]
    }
   ],
   "source": [
    "# Joining Sets\n",
    "# We can join two sets using the union() or update() method.\n",
    "# Union This method returns a new set\n",
    "\n",
    "# syntax\n",
    "st1 = {'item1', 'item2', 'item3', 'item4'}\n",
    "st2 = {'item5', 'item6', 'item7', 'item8'}\n",
    "st3 = st1.union(st2)\n",
    "\n",
    "fruits = {'banana', 'orange', 'mango', 'lemon'}\n",
    "vegetables = {'tomato', 'potato', 'cabbage','onion', 'carrot'}\n",
    "print(fruits.union(vegetables)) # {'lemon', 'carrot', 'tomato', 'banana', 'mango', 'orange', 'cabbage', 'potato', 'onion'}\n",
    "\n",
    "union = fruits.union(vegetables)\n",
    "print(union)\n",
    "\n",
    "# Update This method inserts a set into a given set\n",
    "fruits = {'banana', 'orange', 'mango', 'lemon'}\n",
    "vegetables = {'tomato', 'potato', 'cabbage','onion', 'carrot'}\n",
    "fruits.update(vegetables)\n",
    "print(fruits) # {'lemon', 'carrot', 'tomato', 'banana', 'mango', 'orange', 'cabbage', 'potato', 'onion'}\n",
    "\n"
   ]
  },
  {
   "cell_type": "markdown",
   "metadata": {},
   "source": [
    "#Finding Intersection Items\n",
    "Intersection returns a set of items which are in both the sets. See the example"
   ]
  },
  {
   "cell_type": "code",
   "execution_count": 35,
   "metadata": {},
   "outputs": [
    {
     "name": "stdout",
     "output_type": "stream",
     "text": [
      "{0, 2, 4, 6, 8, 10}\n",
      "{'n', 'i', 'o'}\n"
     ]
    }
   ],
   "source": [
    "\n",
    "# syntax\n",
    "# st1 = {'item1', 'item2', 'item3', 'item4'}\n",
    "# st2 = {'item3', 'item2'}\n",
    "# st1.intersection(st2) # {'item3', 'item2'}\n",
    "\n",
    "whole_numbers = {0, 1, 2, 3, 4, 5, 6, 7, 8, 9, 10}\n",
    "even_numbers = {0, 2, 4, 6, 8, 10}\n",
    "print(whole_numbers.intersection(even_numbers)) # {0, 2, 4, 6, 8, 10}\n",
    "\n",
    "python = {'p', 'y', 't', 'h', 'o','n', 'i', 'o'}\n",
    "dragon = {'d', 'r', 'a', 'g', 'o','n','i','o'}\n",
    "print(python.intersection(dragon))     # {'o', 'n'}"
   ]
  },
  {
   "cell_type": "markdown",
   "metadata": {},
   "source": [
    "# Checking Subset and Super Set\n",
    "A set can be a subset or super set of other sets:\n",
    "\n",
    "Subset: issubset()\n",
    "Super set: issuperset"
   ]
  },
  {
   "cell_type": "code",
   "execution_count": 39,
   "metadata": {},
   "outputs": [
    {
     "name": "stdout",
     "output_type": "stream",
     "text": [
      "False\n",
      "True\n",
      "False\n"
     ]
    }
   ],
   "source": [
    "whole_numbers = {0, 1, 2, 3, 4, 5, 6, 7, 8, 9, 10}\n",
    "even_numbers = {0, 2, 4, 6, 8, 10}\n",
    "print(whole_numbers.issubset(even_numbers)) # False, because it is a super set\n",
    "print(whole_numbers.issuperset(even_numbers)) # True\n",
    "\n",
    "python = {'p', 'y', 't', 'h', 'o','n'}\n",
    "dragon = {'d', 'r', 'a', 'g', 'o','n'}\n",
    "print(python.issubset(dragon))     # False"
   ]
  },
  {
   "cell_type": "markdown",
   "metadata": {},
   "source": [
    "# Checking the Difference Between Two Sets\n",
    "It returns the difference between two sets."
   ]
  },
  {
   "cell_type": "code",
   "execution_count": 44,
   "metadata": {},
   "outputs": [
    {
     "name": "stdout",
     "output_type": "stream",
     "text": [
      "{1, 3, 5, 7, 9}\n",
      "{'y', 'p', 't'}\n",
      "{'d', 'r', 'a', 'g'}\n"
     ]
    }
   ],
   "source": [
    "# syntax\n",
    "st1 = {'item1', 'item2', 'item3', 'item4'}\n",
    "st2 = {'item2', 'item3'}\n",
    "st2.difference(st1) # set()\n",
    "st1.difference(st2) # {'item1', 'item4'} => st1\\st2\n",
    "\n",
    "#Example \n",
    "\n",
    "whole_numbers = {0, 1, 2, 3, 4, 5, 6, 7, 8, 9, 10}\n",
    "even_numbers = {0, 2, 4, 6, 8, 10}\n",
    "print(whole_numbers.difference(even_numbers)) # {1, 3, 5, 7, 9}\n",
    "\n",
    "python = {'p', 'y', 't', 'o','n'}\n",
    "dragon = {'d', 'r', 'a', 'g', 'o','n'}\n",
    "print(python.difference(dragon))     # {'p', 'y', 't'}  - the result is unordered (characteristic of sets)\n",
    "print(dragon.difference(python))     # {'d', 'r', 'a', 'g'}"
   ]
  },
  {
   "cell_type": "markdown",
   "metadata": {},
   "source": [
    "# Finding Symmetric Difference Between Two Sets\n",
    "It returns the the symmetric difference between two sets. It means that it returns a set that contains all items from both sets, except items that are present in both sets, mathematically: (A\\B) ∪ (B\\A)\n",
    "\n"
   ]
  },
  {
   "cell_type": "code",
   "execution_count": 48,
   "metadata": {},
   "outputs": [
    {
     "name": "stdout",
     "output_type": "stream",
     "text": [
      "{'item1', 'item4'}\n",
      "{0, 6, 7, 8, 9, 10}\n",
      "{'y', 'p', 'd', 'h', 't', 'r', 'a', 'g'}\n"
     ]
    }
   ],
   "source": [
    "# syntax\n",
    "st1 = {'item1', 'item2', 'item3', 'item4'}\n",
    "st2 = {'item2', 'item3'}\n",
    "# it means (A\\B)∪(B\\A)\n",
    "print(st2.symmetric_difference(st1)) # {'item1', 'item4'}\n",
    "\n",
    "\n",
    "whole_numbers = {0, 1, 2, 3, 4, 5, 6, 7, 8, 9, 10}\n",
    "some_numbers = {1, 2, 3, 4, 5}\n",
    "print(whole_numbers.symmetric_difference(some_numbers)) # {0, 6, 7, 8, 9, 10}\n",
    "\n",
    "python = {'p', 'y', 't', 'h', 'o','n'}\n",
    "dragon = {'d', 'r', 'a', 'g', 'o','n'}\n",
    "print(python.symmetric_difference(dragon))  # {'r', 't', 'p', 'y', 'g', 'a', 'd', 'h'}"
   ]
  },
  {
   "cell_type": "markdown",
   "metadata": {},
   "source": [
    "# Joining Sets\n",
    "If two sets do not have a common item or items we call them disjoint sets. We can check if two sets are joint or disjoint using isdisjoint() method."
   ]
  },
  {
   "cell_type": "code",
   "execution_count": null,
   "metadata": {},
   "outputs": [],
   "source": [
    "# syntax\n",
    "st1 = {'item1', 'item2', 'item3', 'item4'}\n",
    "st2 = {'item2', 'item3'}\n",
    "st2.isdisjoint(st1) # False"
   ]
  },
  {
   "cell_type": "code",
   "execution_count": 52,
   "metadata": {},
   "outputs": [
    {
     "name": "stdout",
     "output_type": "stream",
     "text": [
      "True\n",
      "False\n"
     ]
    }
   ],
   "source": [
    "even_numbers = {0, 2, 4 ,6, 8}\n",
    "odd_numbers = {1, 3, 5, 7, 9}\n",
    "print(even_numbers.isdisjoint(odd_numbers)) # True, because no common item\n",
    "\n",
    "python = {'p', 'y', 't', 'h', 'o','n'}\n",
    "dragon = {'d', 'r', 'a', 'g', 'o','n'}\n",
    "print(python.isdisjoint(dragon))  # False, there are common items {'o', 'n'}"
   ]
  },
  {
   "cell_type": "markdown",
   "metadata": {},
   "source": [
    "# Finding Intersection Items\n",
    "Intersection returns a set of items which are in both the sets. See the example"
   ]
  },
  {
   "cell_type": "code",
   "execution_count": null,
   "metadata": {},
   "outputs": [],
   "source": [
    "# syntax\n",
    "# st1 = {'item1', 'item2', 'item3', 'item4'}\n",
    "# st2 = {'item3', 'item2'}\n",
    "# st1.intersection(st2) # {'item3', 'item2'}"
   ]
  },
  {
   "cell_type": "code",
   "execution_count": 3,
   "metadata": {},
   "outputs": [
    {
     "name": "stdout",
     "output_type": "stream",
     "text": [
      "{0, 2, 4, 6, 8, 10}\n",
      "{'o', 'n'}\n"
     ]
    }
   ],
   "source": [
    "whole_numbers = {0, 1, 2, 3, 4, 5, 6, 7, 8, 9, 10}\n",
    "even_numbers = {0, 2, 4, 6, 8, 10}\n",
    "whole_numbers.intersection(even_numbers) # {0, 2, 4, 6, 8, 10}\n",
    "print(whole_numbers.intersection(even_numbers))\n",
    "\n",
    "python = {'p', 'y', 't', 'h', 'o','n'}\n",
    "dragon = {'d', 'r', 'a', 'g', 'o','n'}\n",
    "print(python.intersection(dragon))     # {'o', 'n'}"
   ]
  },
  {
   "cell_type": "markdown",
   "metadata": {},
   "source": [
    "# Checking Subset and Super Set\n",
    "A set can be a subset or super set of other sets:\n",
    "\n",
    "Subset: issubset()\n",
    "Super set: issuperset"
   ]
  },
  {
   "cell_type": "code",
   "execution_count": 6,
   "metadata": {},
   "outputs": [
    {
     "name": "stdout",
     "output_type": "stream",
     "text": [
      "False\n",
      "True\n",
      "False\n"
     ]
    }
   ],
   "source": [
    "# syntax\n",
    "# st1 = {'item1', 'item2', 'item3', 'item4'}\n",
    "# st2 = {'item2', 'item3'}\n",
    "# st2.issubset(st1) # True\n",
    "# st1.issuperset(st2) # True\n",
    "\n",
    "whole_numbers = {0, 1, 2, 3, 4, 5, 6, 7, 8, 9, 10}\n",
    "even_numbers = {0, 2, 4, 6, 8, 10}\n",
    "print(whole_numbers.issubset(even_numbers)) # False, because it is a super set\n",
    "print(whole_numbers.issuperset(even_numbers)) # True\n",
    "\n",
    "python = {'p', 'y', 't', 'h', 'o','n'}\n",
    "dragon = {'d', 'r', 'a', 'g', 'o','n'}\n",
    "print(python.issubset(dragon))     # False"
   ]
  },
  {
   "cell_type": "markdown",
   "metadata": {},
   "source": [
    "# Checking the Difference Between Two Sets\n",
    "It returns the difference between two sets."
   ]
  },
  {
   "cell_type": "code",
   "execution_count": 7,
   "metadata": {},
   "outputs": [],
   "source": [
    "# syntax\n",
    "# st1 = {'item1', 'item2', 'item3', 'item4'}\n",
    "# st2 = {'item2', 'item3'}\n",
    "# st2.difference(st1) # set()\n",
    "# st1.difference(st2) # {'item1', 'item4'} => st1\\st2"
   ]
  },
  {
   "cell_type": "code",
   "execution_count": 11,
   "metadata": {},
   "outputs": [
    {
     "name": "stdout",
     "output_type": "stream",
     "text": [
      "{1, 3, 5, 7, 9}\n",
      "{'y', 't', 'p'}\n",
      "{'d', 'a', 'r', 'g'}\n"
     ]
    }
   ],
   "source": [
    "whole_numbers = {0, 1, 2, 3, 4, 5, 6, 7, 8, 9, 10}\n",
    "even_numbers = {0, 2, 4, 6, 8, 10}\n",
    "print(whole_numbers.difference(even_numbers)) # {1, 3, 5, 7, 9}\n",
    "\n",
    "python = {'p', 'y', 't', 'o','n'}\n",
    "dragon = {'d', 'r', 'a', 'g', 'o','n'}\n",
    "print(python.difference(dragon))     # {'p', 'y', 't'}  - the result is unordered (characteristic of sets)\n",
    "print(dragon.difference(python))     # {'d', 'r', 'a', 'g'}"
   ]
  }
 ],
 "metadata": {
  "kernelspec": {
   "display_name": "Python 3",
   "language": "python",
   "name": "python3"
  },
  "language_info": {
   "codemirror_mode": {
    "name": "ipython",
    "version": 3
   },
   "file_extension": ".py",
   "mimetype": "text/x-python",
   "name": "python",
   "nbconvert_exporter": "python",
   "pygments_lexer": "ipython3",
   "version": "3.12.0"
  }
 },
 "nbformat": 4,
 "nbformat_minor": 2
}
