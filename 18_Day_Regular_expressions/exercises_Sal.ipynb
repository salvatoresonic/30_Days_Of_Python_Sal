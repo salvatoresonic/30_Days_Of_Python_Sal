{
 "cells": [
  {
   "cell_type": "markdown",
   "metadata": {},
   "source": [
    "# Exercises: Level 1\n",
    "What is the most frequent word in the following paragraph?"
   ]
  },
  {
   "cell_type": "code",
   "execution_count": 10,
   "metadata": {},
   "outputs": [
    {
     "name": "stdout",
     "output_type": "stream",
     "text": [
      "i: 2 times\n",
      "love: 4 times\n",
      "teaching.: 1 times\n",
      "if: 2 times\n",
      "you: 5 times\n",
      "do: 2 times\n",
      "not: 2 times\n",
      "teaching: 1 times\n",
      "what: 2 times\n",
      "else: 2 times\n",
      "can: 3 times\n",
      "love.: 2 times\n",
      "python: 1 times\n",
      "something: 1 times\n",
      "which: 1 times\n",
      "give: 1 times\n",
      "all: 1 times\n",
      "the: 1 times\n",
      "capabilities: 1 times\n",
      "to: 1 times\n",
      "develop: 1 times\n",
      "an: 1 times\n",
      "application: 1 times\n"
     ]
    }
   ],
   "source": [
    "import re\n",
    "\n",
    "paragraph = 'I love teaching. If you do not love teaching what else can you love. I love Python if you do not love something which can give you all the capabilities to develop an application what else can you love.'\n",
    "\n",
    "# Use re.split() to separate the string by words\n",
    "words = re.split(r'\\s+', paragraph)\n",
    "\n",
    "# Filter out empty strings resulting from consecutive spaces\n",
    "words = [word.lower() for word in words if word]\n",
    "\n",
    "# Create a dictionary to store word counts\n",
    "word_counts = {}\n",
    "\n",
    "# Update the counts in the dictionary\n",
    "for word in words:\n",
    "    word_counts[word] = word_counts.get(word, 0) + 1\n",
    "\n",
    "# Print the word counts\n",
    "for word, count in word_counts.items():\n",
    "    print(f\"{word}: {count} times\")\n",
    "\n"
   ]
  },
  {
   "cell_type": "code",
   "execution_count": 11,
   "metadata": {},
   "outputs": [
    {
     "name": "stdout",
     "output_type": "stream",
     "text": [
      "List of words: ['i', 'love', 'teaching.', 'if', 'you', 'do', 'not', 'love', 'teaching', 'what', 'else', 'can', 'you', 'love.', 'i', 'love', 'python', 'if', 'you', 'do', 'not', 'love', 'something', 'which', 'can', 'give', 'you', 'all', 'the', 'capabilities', 'to', 'develop', 'an', 'application', 'what', 'else', 'can', 'you', 'love.']\n",
      "i: 2 times\n",
      "love: 4 times\n",
      "teaching.: 1 times\n",
      "if: 2 times\n",
      "you: 5 times\n",
      "do: 2 times\n",
      "not: 2 times\n",
      "teaching: 1 times\n",
      "what: 2 times\n",
      "else: 2 times\n",
      "can: 3 times\n",
      "love.: 2 times\n",
      "python: 1 times\n",
      "something: 1 times\n",
      "which: 1 times\n",
      "give: 1 times\n",
      "all: 1 times\n",
      "the: 1 times\n",
      "capabilities: 1 times\n",
      "to: 1 times\n",
      "develop: 1 times\n",
      "an: 1 times\n",
      "application: 1 times\n"
     ]
    }
   ],
   "source": [
    "import re\n",
    "\n",
    "paragraph = 'I love teaching. If you do not love teaching what else can you love. I love Python if you do not love something which can give you all the capabilities to develop an application what else can you love.'\n",
    "\n",
    "# Use re.split() to separate the string by words\n",
    "words = re.split(r'\\s+', paragraph)\n",
    "\n",
    "# Filter out empty strings resulting from consecutive spaces\n",
    "words = [word.lower() for word in words if word]\n",
    "\n",
    "# Print the words to inspect\n",
    "print(\"List of words:\", words)\n",
    "\n",
    "# Create a dictionary to store word counts\n",
    "word_counts = {}\n",
    "\n",
    "# Update the counts in the dictionary\n",
    "for word in words:\n",
    "    word_counts[word] = word_counts.get(word, 0) + 1\n",
    "\n",
    "# Print the word counts\n",
    "for word, count in word_counts.items():\n",
    "    print(f\"{word}: {count} times\")\n"
   ]
  },
  {
   "cell_type": "code",
   "execution_count": 19,
   "metadata": {},
   "outputs": [
    {
     "name": "stdout",
     "output_type": "stream",
     "text": [
      "['I', 'love', 'teaching.', 'If', 'you', 'do', 'not', 'love', 'teaching', 'what', 'else', 'can', 'you', 'love.', 'I', 'love', 'Python', 'if', 'you', 'do', 'not', 'love', 'something', 'which', 'can', 'give', 'you', 'all', 'the', 'capabilities', 'to', 'develop', 'an', 'application', 'what', 'else', 'can', 'you', 'love.']\n",
      "['I', 'love', 'teaching.', 'If', 'you', 'do', 'not', 'teaching', 'what', 'else', 'can', 'love.', 'Python', 'if', 'something', 'which', 'give', 'all', 'the', 'capabilities', 'to', 'develop', 'an', 'application']\n",
      "['love', 'love', 'love', 'love', 'love', 'love']\n"
     ]
    }
   ],
   "source": [
    "import re\n",
    "\n",
    "paragraph = 'I love teaching. If you do not love teaching what else can you love. I love Python if you do not love something which can give you all the capabilities to develop an application what else can you love.'\n",
    "\n",
    "# Use re.split() to separate the string by words\n",
    "words = re.split(r'\\s+', paragraph)\n",
    "print(words)\n",
    "\n",
    "lista_sin_duplicados = []\n",
    "for palabra in words:\n",
    "    if palabra not in lista_sin_duplicados:\n",
    "        lista_sin_duplicados.append(palabra)\n",
    "\n",
    "print(lista_sin_duplicados)\n",
    "\n",
    "\n",
    "\n",
    "matches = re.findall('love', paragraph, re.I)\n",
    "print(matches)"
   ]
  },
  {
   "cell_type": "code",
   "execution_count": 24,
   "metadata": {},
   "outputs": [
    {
     "name": "stdout",
     "output_type": "stream",
     "text": [
      "love: 6 times\n",
      "you: 5 times\n",
      "can: 3 times\n",
      "i: 2 times\n",
      "teaching: 2 times\n",
      "if: 2 times\n",
      "do: 2 times\n",
      "not: 2 times\n",
      "what: 2 times\n",
      "else: 2 times\n",
      "python: 1 times\n",
      "something: 1 times\n",
      "which: 1 times\n",
      "give: 1 times\n",
      "all: 1 times\n",
      "the: 1 times\n",
      "capabilities: 1 times\n",
      "to: 1 times\n",
      "develop: 1 times\n",
      "an: 1 times\n",
      "application: 1 times\n"
     ]
    }
   ],
   "source": [
    "import re\n",
    "\n",
    "paragraph = 'I love teaching. If you do not love teaching what else can you love. I love Python if you do not love something which can give you all the capabilities to develop an application what else can you love.'\n",
    "\n",
    "# Use re.findall() to find all words in lowercase\n",
    "words = re.findall(r'\\b\\w+\\b', paragraph.lower())\n",
    "\n",
    "# Create a dictionary to store word counts\n",
    "word_counts = {}\n",
    "\n",
    "# Update the counts in the dictionary\n",
    "for word in words:\n",
    "    word_counts[word] = word_counts.get(word, 0) + 1\n",
    "\n",
    "# Sort the word counts by frequency (from least to most)\n",
    "sorted_word_counts = sorted(word_counts.items(), key=lambda x: x[1], reverse= True)\n",
    "\n",
    "# Print the word counts from least to most frequent\n",
    "for word, count in sorted_word_counts:\n",
    "    print(f\"{word}: {count} times\")\n"
   ]
  }
 ],
 "metadata": {
  "kernelspec": {
   "display_name": "Python 3",
   "language": "python",
   "name": "python3"
  },
  "language_info": {
   "codemirror_mode": {
    "name": "ipython",
    "version": 3
   },
   "file_extension": ".py",
   "mimetype": "text/x-python",
   "name": "python",
   "nbconvert_exporter": "python",
   "pygments_lexer": "ipython3",
   "version": "3.12.1"
  }
 },
 "nbformat": 4,
 "nbformat_minor": 2
}
