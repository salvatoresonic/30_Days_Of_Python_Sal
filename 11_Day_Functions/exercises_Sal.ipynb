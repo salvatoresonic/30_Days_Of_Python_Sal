{
 "cells": [
  {
   "cell_type": "markdown",
   "metadata": {},
   "source": [
    "# Exercises: Level 1\n"
   ]
  },
  {
   "cell_type": "code",
   "execution_count": 1,
   "metadata": {},
   "outputs": [
    {
     "name": "stdout",
     "output_type": "stream",
     "text": [
      "6\n"
     ]
    }
   ],
   "source": [
    "# 1) Declare a function add_two_numbers. It takes two parameters and it returns a sum.\n",
    "def add_two_numbers (num1, num2):\n",
    "    sum = num1 + num2\n",
    "    return(sum)\n",
    "\n",
    "print(add_two_numbers(2,4))\n"
   ]
  },
  {
   "cell_type": "code",
   "execution_count": 2,
   "metadata": {},
   "outputs": [
    {
     "name": "stdout",
     "output_type": "stream",
     "text": [
      "314.16\n"
     ]
    }
   ],
   "source": [
    "# 2) Area of a circle is calculated as follows: area = π x r x r. Write a function that calculates area_of_circle.\n",
    "\n",
    "def area_circle(radio):\n",
    "    pi = 3.1416\n",
    "    area = pi * radio * radio\n",
    "    return(area)\n",
    "\n",
    "print(area_circle(10))\n",
    "    "
   ]
  },
  {
   "cell_type": "code",
   "execution_count": 56,
   "metadata": {},
   "outputs": [
    {
     "name": "stdout",
     "output_type": "stream",
     "text": [
      "19\n"
     ]
    }
   ],
   "source": [
    "# 3) Write a function called add_all_nums which takes arbitrary number of arguments and sums all the arguments. Check if all the list items are number types. If not do give a reasonable feedback.\n",
    "\n",
    "def add_all_nums (*nums):\n",
    "    total = 0\n",
    "    for num in nums:\n",
    "        if type(num) in (int, float):\n",
    "            total = total + num\n",
    "        else:\n",
    "            return num + ' is not a number'\n",
    "    return(total)\n",
    "\n",
    "print(add_all_nums(2,3,5,9))\n",
    "\n",
    "\n",
    "    "
   ]
  },
  {
   "cell_type": "code",
   "execution_count": 60,
   "metadata": {},
   "outputs": [
    {
     "name": "stdout",
     "output_type": "stream",
     "text": [
      "86.0\n"
     ]
    }
   ],
   "source": [
    "# 4) Temperature in °C can be converted to °F using this formula: °F = (°C x 9/5) + 32. Write a function which converts °C to °F, convert_celsius_to-fahrenheit.\n",
    "\n",
    "def centi_to_faren(centi):\n",
    "    faren = ((centi * 9/5)+32)\n",
    "    return(faren)\n",
    "\n",
    "print(centi_to_faren(30))"
   ]
  },
  {
   "cell_type": "code",
   "execution_count": 69,
   "metadata": {},
   "outputs": [
    {
     "name": "stdout",
     "output_type": "stream",
     "text": [
      "you are in Spring\n"
     ]
    }
   ],
   "source": [
    "# 5) Write a function called check-season, it takes a month parameter and returns the season: Autumn, Winter, Spring or Summer.\n",
    "\n",
    "def check_season (month):\n",
    "    Winter = ['December', 'January','February']\n",
    "    Autumn = ['September', 'October', 'November']\n",
    "    Spring = ['March', 'April', 'May']\n",
    "    Summer = ['June', 'July', 'August']\n",
    "    if month in Winter:\n",
    "        return 'you are in Winter'\n",
    "    elif month in Autumn:\n",
    "         return 'you are in Autumn'\n",
    "    elif month in Spring:\n",
    "        return 'you are in Spring'\n",
    "    elif month in Summer:\n",
    "        return 'you are in Summer'\n",
    "    else:\n",
    "        return 'please enter a correct Month'\n",
    "\n",
    "print(check_season('March'))\n",
    "\n"
   ]
  },
  {
   "cell_type": "code",
   "execution_count": 71,
   "metadata": {},
   "outputs": [
    {
     "name": "stdout",
     "output_type": "stream",
     "text": [
      "1.0\n"
     ]
    }
   ],
   "source": [
    "# 6) Write a function called calculate_slope which return the slope of a linear equation\n",
    "\n",
    "def slope (x1, x2 ,y1 ,y2):\n",
    "    slope = (y2 - y1)/(x2 -x1)\n",
    "    return slope\n",
    "\n",
    "print(slope(4,5,6,7))\n"
   ]
  },
  {
   "cell_type": "code",
   "execution_count": 73,
   "metadata": {},
   "outputs": [
    {
     "name": "stdout",
     "output_type": "stream",
     "text": [
      "((2+0j), (1+0j))\n",
      "((1+0j), (-1+0j))\n",
      "((-0.5+0.8660254037844386j), (-0.5-0.8660254037844386j))\n"
     ]
    },
    {
     "ename": "TypeError",
     "evalue": "unsupported operand type(s) for -: 'int' and 'str'",
     "output_type": "error",
     "traceback": [
      "\u001b[1;31m---------------------------------------------------------------------------\u001b[0m",
      "\u001b[1;31mTypeError\u001b[0m                                 Traceback (most recent call last)",
      "Cell \u001b[1;32mIn[73], line 33\u001b[0m\n\u001b[0;32m     31\u001b[0m \u001b[38;5;28mprint\u001b[39m(solve_quadratic_eqn(\u001b[38;5;241m1\u001b[39m, \u001b[38;5;241m0\u001b[39m, \u001b[38;5;241m-\u001b[39m\u001b[38;5;241m1\u001b[39m))\n\u001b[0;32m     32\u001b[0m \u001b[38;5;28mprint\u001b[39m(solve_quadratic_eqn(\u001b[38;5;241m1\u001b[39m, \u001b[38;5;241m1\u001b[39m, \u001b[38;5;241m1\u001b[39m))\n\u001b[1;32m---> 33\u001b[0m \u001b[38;5;28mprint\u001b[39m(\u001b[43msolve_quadratic_eqn\u001b[49m\u001b[43m(\u001b[49m\u001b[38;5;124;43m'\u001b[39;49m\u001b[38;5;124;43ma\u001b[39;49m\u001b[38;5;124;43m'\u001b[39;49m\u001b[43m,\u001b[49m\u001b[43m \u001b[49m\u001b[38;5;241;43m1\u001b[39;49m\u001b[43m,\u001b[49m\u001b[43m \u001b[49m\u001b[38;5;241;43m2\u001b[39;49m\u001b[43m)\u001b[49m)\n\u001b[0;32m     34\u001b[0m \u001b[38;5;28mprint\u001b[39m(solve_quadratic_eqn(\u001b[38;5;241m1\u001b[39m, \u001b[38;5;124m'\u001b[39m\u001b[38;5;124ma\u001b[39m\u001b[38;5;124m'\u001b[39m, \u001b[38;5;241m2\u001b[39m))\n\u001b[0;32m     35\u001b[0m \u001b[38;5;28mprint\u001b[39m(solve_quadratic_eqn(\u001b[38;5;241m1\u001b[39m, \u001b[38;5;241m1\u001b[39m, \u001b[38;5;124m'\u001b[39m\u001b[38;5;124ma\u001b[39m\u001b[38;5;124m'\u001b[39m))\n",
      "Cell \u001b[1;32mIn[73], line 7\u001b[0m, in \u001b[0;36msolve_quadratic_eqn\u001b[1;34m(a, b, c)\u001b[0m\n\u001b[0;32m      5\u001b[0m \u001b[38;5;28;01mdef\u001b[39;00m \u001b[38;5;21msolve_quadratic_eqn\u001b[39m(a, b, c):\n\u001b[0;32m      6\u001b[0m     \u001b[38;5;66;03m# Calculate the discriminant\u001b[39;00m\n\u001b[1;32m----> 7\u001b[0m     d \u001b[38;5;241m=\u001b[39m \u001b[43m(\u001b[49m\u001b[43mb\u001b[49m\u001b[38;5;241;43m*\u001b[39;49m\u001b[38;5;241;43m*\u001b[39;49m\u001b[38;5;241;43m2\u001b[39;49m\u001b[43m)\u001b[49m\u001b[43m \u001b[49m\u001b[38;5;241;43m-\u001b[39;49m\u001b[43m \u001b[49m\u001b[43m(\u001b[49m\u001b[38;5;241;43m4\u001b[39;49m\u001b[38;5;241;43m*\u001b[39;49m\u001b[43ma\u001b[49m\u001b[38;5;241;43m*\u001b[39;49m\u001b[43mc\u001b[49m\u001b[43m)\u001b[49m\n\u001b[0;32m      9\u001b[0m     \u001b[38;5;66;03m# Calculate the solutions\u001b[39;00m\n\u001b[0;32m     10\u001b[0m     \u001b[38;5;28;01mif\u001b[39;00m \u001b[38;5;28misinstance\u001b[39m(a, (\u001b[38;5;28mint\u001b[39m, \u001b[38;5;28mfloat\u001b[39m)) \u001b[38;5;129;01mand\u001b[39;00m \u001b[38;5;28misinstance\u001b[39m(b, (\u001b[38;5;28mint\u001b[39m, \u001b[38;5;28mfloat\u001b[39m)) \u001b[38;5;129;01mand\u001b[39;00m \u001b[38;5;28misinstance\u001b[39m(c, (\u001b[38;5;28mint\u001b[39m, \u001b[38;5;28mfloat\u001b[39m)):\n",
      "\u001b[1;31mTypeError\u001b[0m: unsupported operand type(s) for -: 'int' and 'str'"
     ]
    }
   ],
   "source": [
    "# 7) Quadratic equation is calculated as follows: ax² + bx + c = 0. Write a function which calculates solution set of a quadratic equation, solve_quadratic_eqn.\n",
    "\n",
    "import cmath\n",
    "\n",
    "def solve_quadratic_eqn(a, b, c):\n",
    "    # Calculate the discriminant\n",
    "    d = (b**2) - (4*a*c)\n",
    "\n",
    "    # Calculate the solutions\n",
    "    if isinstance(a, (int, float)) and isinstance(b, (int, float)) and isinstance(c, (int, float)):\n",
    "        try:\n",
    "            if d < 0:\n",
    "                solution1 = (-b + cmath.sqrt(d)) / (2 * a)\n",
    "                solution2 = (-b - cmath.sqrt(d)) / (2 * a)\n",
    "            elif d == 0:\n",
    "                solution1 = (-b / (2 * a))\n",
    "                solution2 = solution1\n",
    "            else:\n",
    "                solution1 = (-b + cmath.sqrt(d)) / (2 * a)\n",
    "                solution2 = (-b - cmath.sqrt(d)) / (2 * a)\n",
    "\n",
    "            return solution1, solution2\n",
    "        except ZeroDivisionError:\n",
    "            return \"Error: The coefficient 'a' is zero, which makes the solution undefined.\"\n",
    "    else:\n",
    "        return \"Error: One or more of the inputs is not a number.\"\n",
    "\n",
    "\n",
    "# testing the function\n",
    "print(solve_quadratic_eqn(1, -3, 2))\n",
    "print(solve_quadratic_eqn(1, 0, -1))\n",
    "print(solve_quadratic_eqn(1, 1, 1))\n",
    "print(solve_quadratic_eqn('a', 1, 2))\n",
    "print(solve_quadratic_eqn(1, 'a', 2))\n",
    "print(solve_quadratic_eqn(1, 1, 'a'))\n",
    "print(solve_quadratic_eqn(0, 1, 2))"
   ]
  },
  {
   "cell_type": "code",
   "execution_count": 80,
   "metadata": {},
   "outputs": [
    {
     "name": "stdout",
     "output_type": "stream",
     "text": [
      "1\n",
      "2\n",
      "a\n",
      "4\n",
      "5\n"
     ]
    }
   ],
   "source": [
    "# 8) Declare a function named print_list. It takes a list as a parameter and it prints out each element of the list.\n",
    "\n",
    "def print_list (list):\n",
    "    for element in list:\n",
    "        print(element)\n",
    "\n",
    "print_list([1,2,'a',4,5])\n",
    "    "
   ]
  },
  {
   "cell_type": "code",
   "execution_count": 89,
   "metadata": {},
   "outputs": [
    {
     "name": "stdout",
     "output_type": "stream",
     "text": [
      "[4, 3, 2, 1]\n"
     ]
    }
   ],
   "source": [
    "# 9) Declare a function named reverse_list. It takes an array as a parameter and it returns the reverse of the array (use loops).\n",
    "\n",
    "def lista_reversa(lista):\n",
    "    lista_reversa = []\n",
    "    for item in range(len(lista)-1,-1,-1):\n",
    "        lista_reversa.append(lista[item])\n",
    "    return(lista_reversa)\n",
    "\n",
    "print(lista_reversa([1,2,3,4]))\n"
   ]
  },
  {
   "cell_type": "code",
   "execution_count": 94,
   "metadata": {},
   "outputs": [
    {
     "data": {
      "text/plain": [
       "['A', 'B', 'C', 'D', 'E', 'DNASOU']"
      ]
     },
     "execution_count": 94,
     "metadata": {},
     "output_type": "execute_result"
    }
   ],
   "source": [
    "# Declare a function named capitalize_list_items. It takes a list as a parameter and it returns a capitalized list of items\n",
    "\n",
    "\n",
    "def capitalize_list_items(lista):\n",
    "    lista_capitalizada = []\n",
    "    for item in (lista):\n",
    "        lista_capitalizada.append(item.upper())\n",
    "    return lista_capitalizada\n",
    "\n",
    "capitalize_list_items(['a','b','c','d','E','Dnasou'])\n",
    "\n",
    "\n"
   ]
  },
  {
   "cell_type": "code",
   "execution_count": 105,
   "metadata": {},
   "outputs": [
    {
     "name": "stdout",
     "output_type": "stream",
     "text": [
      "['Potato', 'Tomato', 'Mango', 'Milk', 'Meat']\n",
      "[2, 3, 7, 9, 5]\n"
     ]
    }
   ],
   "source": [
    "# 11) Declare a function named add_item. It takes a list and an item parameters. It returns a list with the item added at the end.\n",
    "\n",
    "def add_item(list, item):\n",
    "    list.append(item)\n",
    "    return list\n",
    "\n",
    "\n",
    "food_staff = ['Potato', 'Tomato', 'Mango', 'Milk'];\n",
    "print(add_item(food_staff, 'Meat'))     # ['Potato', 'Tomato', 'Mango', 'Milk','Meat'];\n",
    "\n",
    "numbers = [2, 3, 7, 9]\n",
    "print(add_item(numbers, 5))      #[2, 3, 7, 9, 5]"
   ]
  },
  {
   "cell_type": "code",
   "execution_count": 110,
   "metadata": {},
   "outputs": [
    {
     "name": "stdout",
     "output_type": "stream",
     "text": [
      "['Potato', 'Tomato', 'Milk']\n",
      "[2, 7, 9]\n"
     ]
    }
   ],
   "source": [
    "# 12) Declare a function named remove_item. It takes a list and an item parameters. It returns a list with the item removed from it.\n",
    "\n",
    "def remove_item (list, item):\n",
    "    list.remove(item)\n",
    "    return list\n",
    "    \n",
    "food_staff = ['Potato', 'Tomato', 'Mango', 'Milk']\n",
    "print(remove_item(food_staff, 'Mango'))  # ['Potato', 'Tomato', 'Milk'];\n",
    "\n",
    "numbers = [2, 3, 7, 9]\n",
    "print(remove_item(numbers, 3))  # [2, 7, 9]"
   ]
  },
  {
   "cell_type": "code",
   "execution_count": 121,
   "metadata": {},
   "outputs": [
    {
     "name": "stdout",
     "output_type": "stream",
     "text": [
      "3\n"
     ]
    }
   ],
   "source": [
    "# 13) Declare a function named sum_of_numbers. It takes a number parameter and it adds all the numbers in that range.\n",
    "\n",
    "def sum_of_numbers (number):\n",
    "    total = 0 \n",
    "    for num in range(number+1):\n",
    "        total = total + num\n",
    "    return total\n",
    "        \n",
    "print(sum_of_numbers(2))\n"
   ]
  },
  {
   "cell_type": "code",
   "execution_count": 128,
   "metadata": {},
   "outputs": [
    {
     "data": {
      "text/plain": [
       "9"
      ]
     },
     "execution_count": 128,
     "metadata": {},
     "output_type": "execute_result"
    }
   ],
   "source": [
    "# 14) Declare a function named sum_of_odds. It takes a number parameter and it adds all the odd numbers in that range.\n",
    "\n",
    "def sum_of_odds (number):\n",
    "    total = 0 \n",
    "    for num in range(number+1):\n",
    "        if num % 2 != 0:\n",
    "            total = total + num\n",
    "    return total\n",
    "\n",
    "sum_of_odds(6)"
   ]
  },
  {
   "cell_type": "code",
   "execution_count": 133,
   "metadata": {},
   "outputs": [
    {
     "data": {
      "text/plain": [
       "12"
      ]
     },
     "execution_count": 133,
     "metadata": {},
     "output_type": "execute_result"
    }
   ],
   "source": [
    "# 15) Declare a function named sum_of_even. It takes a number parameter and it adds all the even numbers in that - range.\n",
    "\n",
    "def sum_of_even(number):\n",
    "    total = 0 \n",
    "    for num in range(number+1):\n",
    "        if num % 2 == 0:\n",
    "            total = total + num\n",
    "    return total\n",
    "\n",
    "sum_of_even(6)\n"
   ]
  },
  {
   "cell_type": "markdown",
   "metadata": {},
   "source": [
    "# Exercises: Level 2\n"
   ]
  },
  {
   "cell_type": "code",
   "execution_count": 187,
   "metadata": {},
   "outputs": [
    {
     "name": "stdout",
     "output_type": "stream",
     "text": [
      "En el rango de  100 total de evens son 51 total de odds son 50\n"
     ]
    }
   ],
   "source": [
    "# 1) Declare a function named evens_and_odds . It takes a positive integer as parameter and it counts number of evens and odds in the number.\n",
    "\n",
    "def evens_and_odds (number):\n",
    "    total_even = 0 \n",
    "    total_odd = 0\n",
    "    for num in range(number+1):\n",
    "        if num % 2 == 0:\n",
    "            total_even = total_even + 1\n",
    "        elif num % 2 != 0:\n",
    "            total_odd = total_odd + 1\n",
    "    return print('En el rango de ', number, 'total de evens son', total_even, 'total de odds son', total_odd, )\n",
    "\n",
    "evens_and_odds(100)\n"
   ]
  },
  {
   "cell_type": "code",
   "execution_count": 197,
   "metadata": {},
   "outputs": [
    {
     "data": {
      "text/plain": [
       "6"
      ]
     },
     "execution_count": 197,
     "metadata": {},
     "output_type": "execute_result"
    }
   ],
   "source": [
    "# 2)Call your function factorial, it takes a whole number as a parameter and it return a factorial of the number\n",
    "\n",
    "def factorial (number):\n",
    "    fact = 1\n",
    "    for num in range(1, number+1):\n",
    "        fact = fact * num\n",
    "    return fact\n",
    "\n",
    "\n",
    "\n",
    "factorial(3)"
   ]
  },
  {
   "cell_type": "code",
   "execution_count": 201,
   "metadata": {},
   "outputs": [
    {
     "data": {
      "text/plain": [
       "[1, 2, 3]"
      ]
     },
     "execution_count": 201,
     "metadata": {},
     "output_type": "execute_result"
    }
   ],
   "source": [
    "# 3) Call your function is_empty, it takes a parameter and it checks if it is empty or not\n",
    "def is_empty(obj):\n",
    "    if len(obj) == 0:\n",
    "        return True\n",
    "    else:\n",
    "        return obj\n",
    "    \n",
    "is_empty([1,2,3,])\n"
   ]
  },
  {
   "cell_type": "code",
   "execution_count": 221,
   "metadata": {},
   "outputs": [],
   "source": [
    "# 4) Write different functions which take lists. They should calculate_mean, calculate_median, calculate_mode, calculate_range, calculate_variance, calculate_std (standard deviation).\n",
    "\n",
    "def mean (list):\n",
    "    total = 0\n",
    "    mean = 0\n",
    "    for num in list:\n",
    "        total = total + num\n",
    "        mean = total / len(list)\n",
    "\n",
    "    return total, mean\n",
    "\n",
    "\n"
   ]
  },
  {
   "cell_type": "code",
   "execution_count": 224,
   "metadata": {},
   "outputs": [
    {
     "name": "stdout",
     "output_type": "stream",
     "text": [
      "Lista: [3, 1, 4, 1, 5, 9, 2, 6, 5, 3, 5]\n",
      "Mediana: 4\n"
     ]
    }
   ],
   "source": [
    "def calcular_mediana(lista):\n",
    "    # Ordenar la lista\n",
    "    lista_ordenada = sorted(lista)\n",
    "    \n",
    "    # Calcular la posición central\n",
    "    n = len(lista_ordenada)\n",
    "    \n",
    "    # Si la longitud de la lista es impar, la mediana es el valor central\n",
    "    if n % 2 == 1:\n",
    "        mediana = lista_ordenada[n // 2]\n",
    "    else:\n",
    "        # Si la longitud de la lista es par, la mediana es el promedio de los dos valores centrales\n",
    "        mediana = (lista_ordenada[(n // 2) - 1] + lista_ordenada[n // 2]) / 2\n",
    "    \n",
    "    return mediana\n",
    "\n",
    "# Ejemplo de uso\n",
    "mi_lista = [3, 1, 4, 1, 5, 9, 2, 6, 5, 3, 5]\n",
    "resultado_mediana = calcular_mediana(mi_lista)\n",
    "\n",
    "print(\"Lista:\", mi_lista)\n",
    "print(\"Mediana:\", resultado_mediana)\n"
   ]
  },
  {
   "cell_type": "code",
   "execution_count": 7,
   "metadata": {},
   "outputs": [
    {
     "data": {
      "text/plain": [
       "3.2"
      ]
     },
     "execution_count": 7,
     "metadata": {},
     "output_type": "execute_result"
    }
   ],
   "source": [
    "# Write different functions which take lists. They should calculate_mean, calculate_median, calculate_mode, calculate_range, calculate_variance, calculate_std (standard deviation).\n",
    "\n",
    "def calcular_media (lista):\n",
    "    media = 0 \n",
    "    total = 0\n",
    "    for i in lista:\n",
    "        total = total + i\n",
    "        media = total / len(lista)\n",
    "    return media\n",
    "\n",
    "calcular_media([1,2,3,4,6])\n"
   ]
  },
  {
   "cell_type": "code",
   "execution_count": 8,
   "metadata": {},
   "outputs": [
    {
     "name": "stdout",
     "output_type": "stream",
     "text": [
      "La moda de la lista es: 2\n"
     ]
    }
   ],
   "source": [
    "# Write different functions which take lists. They should calculate_mean, calculate_median, calculate_mode, calculate_range, calculate_variance, calculate_std (standard deviation).\n",
    "\n",
    "def calcular_moda(lista):\n",
    "    # Creamos un diccionario para almacenar las frecuencias de cada elemento\n",
    "    frecuencias = {}\n",
    "\n",
    "    # Contamos las frecuencias de cada elemento en la lista\n",
    "    for elemento in lista:\n",
    "        if elemento in frecuencias:\n",
    "            frecuencias[elemento] += 1\n",
    "        else:\n",
    "            frecuencias[elemento] = 1\n",
    "\n",
    "    # Encontramos el elemento con la frecuencia máxima (la moda)\n",
    "    moda = None\n",
    "    max_frecuencia = 0\n",
    "\n",
    "    for elemento, frecuencia in frecuencias.items():\n",
    "        if frecuencia > max_frecuencia:\n",
    "            moda = elemento\n",
    "            max_frecuencia = frecuencia\n",
    "\n",
    "    return moda\n",
    "\n",
    "# Ejemplo de uso\n",
    "mi_lista = [1, 2, 3, 4, 2, 2, 3, 4, 5, 5, 5]\n",
    "resultado = calcular_moda(mi_lista)\n",
    "print(f\"La moda de la lista es: {resultado}\")\n",
    "\n"
   ]
  },
  {
   "cell_type": "code",
   "execution_count": 9,
   "metadata": {},
   "outputs": [
    {
     "name": "stdout",
     "output_type": "stream",
     "text": [
      "El rango de la lista es: 9\n"
     ]
    }
   ],
   "source": [
    "# Write different functions which take lists. They should calculate_mean, calculate_median, calculate_mode, calculate_range, calculate_variance, calculate_std (standard deviation).\n",
    "\n",
    "def calcular_rango(lista):\n",
    "    if not lista:\n",
    "        return None  # Retorna None si la lista está vacía\n",
    "\n",
    "    min_valor = min(lista)\n",
    "    max_valor = max(lista)\n",
    "\n",
    "    rango_calculado = max_valor - min_valor\n",
    "    return rango_calculado\n",
    "\n",
    "# Ejemplo de uso\n",
    "mi_lista = [1, 7, 3, 10, 5]\n",
    "resultado = calcular_rango(mi_lista)\n",
    "print(f\"El rango de la lista es: {resultado}\")\n"
   ]
  },
  {
   "cell_type": "code",
   "execution_count": null,
   "metadata": {},
   "outputs": [],
   "source": [
    "# Write different functions which take lists. They should calculate_mean, calculate_median, calculate_mode, calculate_range, calculate_variance, calculate_std (standard deviation).\n",
    "\n",
    "def calcular_varianza(lista):\n",
    "    if len(lista) < 2:\n",
    "        return None  # Retorna None si la lista tiene menos de dos elementos\n",
    "\n",
    "    # Calcula la media de la lista\n",
    "    media = sum(lista) / len(lista)\n",
    "\n",
    "    # Calcula la suma de los cuadrados de las diferencias entre cada elemento y la media\n",
    "    suma_cuadrados_diff = sum((x - media) ** 2 for x in lista)\n",
    "\n",
    "    # Calcula la varianza dividiendo la suma de los cuadrados de las diferencias por el número de elementos\n",
    "    varianza = suma_cuadrados_diff / len(lista)\n",
    "\n",
    "    return varianza\n",
    "\n",
    "# Ejemplo de uso\n",
    "mi_lista = [1, 2, 3, 4, 5]\n",
    "resultado = calcular_varianza(mi_lista)\n",
    "print(f\"La varianza de la lista es: {resultado}\")\n"
   ]
  },
  {
   "cell_type": "code",
   "execution_count": 10,
   "metadata": {},
   "outputs": [
    {
     "name": "stdout",
     "output_type": "stream",
     "text": [
      "La desviación estándar de la lista es: 1.4142135623730951\n"
     ]
    }
   ],
   "source": [
    "# Write different functions which take lists. They should calculate_mean, calculate_median, calculate_mode, calculate_range, calculate_variance, calculate_std (standard deviation).\n",
    "\n",
    "import math\n",
    "\n",
    "def calcular_desviacion_estandar(lista):\n",
    "    if len(lista) < 2:\n",
    "        return None  # Retorna None si la lista tiene menos de dos elementos\n",
    "\n",
    "    # Calcula la varianza usando la función anterior\n",
    "    varianza = calcular_varianza(lista)\n",
    "\n",
    "    # Calcula la desviación estándar como la raíz cuadrada de la varianza\n",
    "    desviacion_estandar = math.sqrt(varianza)\n",
    "\n",
    "    return desviacion_estandar\n",
    "\n",
    "# Función para calcular la varianza (puede reutilizar la función anterior)\n",
    "def calcular_varianza(lista):\n",
    "    media = sum(lista) / len(lista)\n",
    "    suma_cuadrados_diff = sum((x - media) ** 2 for x in lista)\n",
    "    varianza = suma_cuadrados_diff / len(lista)\n",
    "    return varianza\n",
    "\n",
    "# Ejemplo de uso\n",
    "mi_lista = [1, 2, 3, 4, 5]\n",
    "resultado = calcular_desviacion_estandar(mi_lista)\n",
    "print(f\"La desviación estándar de la lista es: {resultado}\")\n",
    "\n"
   ]
  },
  {
   "cell_type": "markdown",
   "metadata": {},
   "source": [
    "# Exercises: Level 3\n"
   ]
  },
  {
   "cell_type": "code",
   "execution_count": 13,
   "metadata": {},
   "outputs": [
    {
     "name": "stdout",
     "output_type": "stream",
     "text": [
      "11 es un número primo.\n"
     ]
    }
   ],
   "source": [
    "# 1)Write a function called is_prime, which checks if a number is prime.\n",
    "\n",
    "def es_primo(numero):\n",
    "    if numero <= 1:\n",
    "        return False  # Los números menores o iguales a 1 no son primos\n",
    "\n",
    "    # Verificamos factores desde 2 hasta el número - 1\n",
    "    for i in range(2, numero):\n",
    "        if numero % i == 0:\n",
    "            return False  # Si el número tiene un factor distinto de 1 y sí mismo, no es primo\n",
    "\n",
    "    return True  # Si no se encuentran factores distintos de 1 y sí mismo, el número es primo\n",
    "\n",
    "# Ejemplo de uso\n",
    "num = 11\n",
    "if es_primo(num):\n",
    "    print(f\"{num} es un número primo.\")\n",
    "else:\n",
    "    print(f\"{num} no es un número primo.\")\n",
    "    "
   ]
  },
  {
   "cell_type": "code",
   "execution_count": 21,
   "metadata": {},
   "outputs": [
    {
     "name": "stdout",
     "output_type": "stream",
     "text": [
      "There are duplicate items in the list.\n"
     ]
    }
   ],
   "source": [
    "# 2) Write a functions which checks if all items are unique in the list.\n",
    "\n",
    "def are_all_unique(lst):\n",
    "    # Use a set to check for uniqueness\n",
    "    unique_set = set(lst)\n",
    "\n",
    "    if len(unique_set) == len(lst):\n",
    "        return \"All items in the list are unique.\"\n",
    "    else:\n",
    "        return \"There are duplicate items in the list.\"\n",
    "\n",
    "\n",
    "#     # If the length of the set is equal to the length of the list, all items are unique\n",
    "#     return len(unique_set) == len(lst)\n",
    "\n",
    "# # Example of usage\n",
    "my_list = [1, 2, 3, 4, 5,6,7,8,1]\n",
    "print(are_all_unique(my_list))\n",
    "\n",
    "# if are_all_unique(my_list):\n",
    "#     print(\"All items in the list are unique.\")\n",
    "# else:\n",
    "#     print(\"There are duplicate items in the list.\")\n",
    "\n"
   ]
  },
  {
   "cell_type": "code",
   "execution_count": 25,
   "metadata": {},
   "outputs": [
    {
     "name": "stdout",
     "output_type": "stream",
     "text": [
      "Items in the list have different data types.\n"
     ]
    }
   ],
   "source": [
    "# Write a function which checks if all the items of the list are of the same data type.\n",
    "\n",
    "def are_all_same_type(lst):\n",
    "    # Use set to get unique data types in the list\n",
    "    unique_types = set(type(item) for item in lst)\n",
    "\n",
    "    # If the length of the set is 1, all items have the same data type\n",
    "    return len(unique_types) == 1\n",
    "\n",
    "# Example of usage\n",
    "my_list = [1, 2, 3, 4, 5, True]\n",
    "if are_all_same_type(my_list):\n",
    "    print(\"All items in the list have the same data type.\")\n",
    "else:\n",
    "    print(\"Items in the list have different data types.\")\n"
   ]
  },
  {
   "cell_type": "code",
   "execution_count": 31,
   "metadata": {},
   "outputs": [
    {
     "name": "stdout",
     "output_type": "stream",
     "text": [
      "hello is a valid Python variable.\n"
     ]
    }
   ],
   "source": [
    "# Write a function which check if provided variable is a valid python variable\n",
    "\n",
    "def is_valid_variable(variable):\n",
    "    # Check if the variable is a valid identifier\n",
    "    if not variable.isidentifier():\n",
    "        return False  # Not a valid identifier\n",
    "\n",
    "    # Check if the variable is a reserved keyword\n",
    "    reserved_keywords = {'False', 'None', 'True', 'and', 'as', 'assert', 'break', 'class',\n",
    "                         'continue', 'def', 'del', 'elif', 'else', 'except', 'finally', 'for',\n",
    "                         'from', 'global', 'if', 'import', 'in', 'is', 'lambda', 'nonlocal',\n",
    "                         'not', 'or', 'pass', 'raise', 'return', 'try', 'while', 'with', 'yield'}\n",
    "    \n",
    "    if variable in reserved_keywords:\n",
    "        return False  # Reserved keyword\n",
    "    \n",
    "    return True\n",
    "\n",
    "# Example of usage\n",
    "my_variable = 'hello'\n",
    "if is_valid_variable(my_variable):\n",
    "    print(f\"{my_variable} is a valid Python variable.\")\n",
    "else:\n",
    "    print(f\"{my_variable} is not a valid Python variable.\")\n"
   ]
  },
  {
   "cell_type": "code",
   "execution_count": 81,
   "metadata": {},
   "outputs": [
    {
     "name": "stdout",
     "output_type": "stream",
     "text": [
      "{'name': 'Afghanistan', 'capital': 'Kabul', 'languages': ['Pashto', 'Uzbek', 'Turkmen'], 'population': 27657145, 'flag': 'https://restcountries.eu/data/afg.svg', 'currency': 'Afghan afghani'}\n",
      "[('English', 2), ('Mandarin', 1), ('Hindi', 1)]\n"
     ]
    }
   ],
   "source": [
    "# 5) Go to the data folder and access the countries-data.py file.\n",
    "\n",
    "%run ../data/countries_data.py\n",
    "print(countries_data[0])\n",
    "\n",
    "# Create a function called the most_spoken_languages in the world. It should return 10 or 20 most spoken languages in the world in descending order\n",
    "\n",
    "def most_spoken_languages(country_data, num_languages=10):\n",
    "    # Create a dictionary to store the count of each language\n",
    "    language_count = {}\n",
    "\n",
    "    # Iterate through each country's data\n",
    "    for country in country_data:\n",
    "        # Check if 'languages' key exists in the country's data\n",
    "        if 'languages' in country:\n",
    "            # Split languages string into a list of individual languages\n",
    "            languages = country['languages'].split(',')\n",
    "\n",
    "            # Update the count for each language in the dictionary\n",
    "            for language in languages:\n",
    "                language = language.strip()  # Remove leading/trailing whitespaces\n",
    "                language_count[language] = language_count.get(language, 0) + 1\n",
    "\n",
    "    # Sort languages by count in descending order\n",
    "    sorted_languages = sorted(language_count.items(), key=lambda x: x[1], reverse=True)\n",
    "\n",
    "    # Return the top N languages (default: 10)\n",
    "    return sorted_languages[:num_languages]\n",
    "\n",
    "# Example of usage\n",
    "countries_data = [\n",
    "      {'name': 'United States', 'languages': 'English'},\n",
    "      {'name': 'China', 'languages': 'Mandarin'},\n",
    "      {'name': 'India', 'languages': 'Hindi, English'},\n",
    "      # Add more country data as needed\n",
    "  ]\n",
    "\n",
    "result = most_spoken_languages(countries_data)\n",
    "print(result)\n",
    "\n",
    "\n",
    "\n"
   ]
  },
  {
   "cell_type": "code",
   "execution_count": 82,
   "metadata": {},
   "outputs": [
    {
     "name": "stdout",
     "output_type": "stream",
     "text": [
      "[{'name': 'China', 'population': 1444216107}, {'name': 'India', 'population': 1393409038}, {'name': 'United States', 'population': 332915073}]\n"
     ]
    }
   ],
   "source": [
    "# Create a function called the most_populated_countries. It should return 10 or 20 most populated countries in descending order.\n",
    "\n",
    "\n",
    "def most_populated_countries(country_data, num_countries=10):\n",
    "    # Sort countries by population in descending order\n",
    "    sorted_countries = sorted(country_data, key=lambda x: x.get('population', 0), reverse=True)\n",
    "\n",
    "    # Return the top N countries (default: 10)\n",
    "    return sorted_countries[:num_countries]\n",
    "\n",
    "# Example of usage\n",
    "countries_data = [\n",
    "    {'name': 'China', 'population': 1444216107},\n",
    "    {'name': 'India', 'population': 1393409038},\n",
    "    {'name': 'United States', 'population': 332915073},\n",
    "    # Add more country data as needed\n",
    "]\n",
    "\n",
    "result = most_populated_countries(countries_data)\n",
    "print(result)\n"
   ]
  }
 ],
 "metadata": {
  "kernelspec": {
   "display_name": "Python 3",
   "language": "python",
   "name": "python3"
  },
  "language_info": {
   "codemirror_mode": {
    "name": "ipython",
    "version": 3
   },
   "file_extension": ".py",
   "mimetype": "text/x-python",
   "name": "python",
   "nbconvert_exporter": "python",
   "pygments_lexer": "ipython3",
   "version": "3.12.0"
  }
 },
 "nbformat": 4,
 "nbformat_minor": 2
}
