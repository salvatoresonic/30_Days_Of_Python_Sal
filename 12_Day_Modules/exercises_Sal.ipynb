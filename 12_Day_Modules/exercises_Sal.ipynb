{
 "cells": [
  {
   "cell_type": "markdown",
   "metadata": {},
   "source": [
    "# Exercises: Level 1\n",
    "Write a function which generates a six digit/character random_user_id"
   ]
  },
  {
   "cell_type": "code",
   "execution_count": 13,
   "metadata": {},
   "outputs": [
    {
     "name": "stdout",
     "output_type": "stream",
     "text": [
      "Random User ID: cj2tja\n"
     ]
    }
   ],
   "source": [
    "# Write a function which generates a six digit/character random_user_id.\n",
    "import random\n",
    "import string\n",
    "\n",
    "def generate_random_user_id():\n",
    "    # Generate a six-digit random user ID using digits and uppercase letters\n",
    "    user_id = ''.join(random.choices(string.digits + string.ascii_lowercase, k=6))\n",
    "    return user_id\n",
    "\n",
    "# Example of usage\n",
    "random_user_id = generate_random_user_id()\n",
    "print(\"Random User ID:\", random_user_id)\n",
    "\n",
    "\n"
   ]
  },
  {
   "cell_type": "code",
   "execution_count": 14,
   "metadata": {},
   "outputs": [
    {
     "name": "stdout",
     "output_type": "stream",
     "text": [
      "Generated User IDs: ['7S3NGNI', '09ZH635', '1L4FXD1', 'QH5E1AL', '8ZCP5A5', 'RNL9XVX', '2JYRL3V', '3QDREK0', 'HI5CC69', 'RRXIBL0']\n"
     ]
    }
   ],
   "source": [
    "# Modify the previous task. Declare a function named user_id_gen_by_user. It doesn’t take any parameters but it takes two inputs using input(). One of the inputs is the number of characters and the second input is the number of IDs which are supposed to be generated.\n",
    "\n",
    "import random\n",
    "import string\n",
    "\n",
    "def user_id_gen_by_user():\n",
    "    try:\n",
    "        # Get user input for the number of characters\n",
    "        num_characters = int(input(\"Enter the number of characters for each user ID: \"))\n",
    "        \n",
    "        # Get user input for the number of IDs to generate\n",
    "        num_ids = int(input(\"Enter the number of user IDs to generate: \"))\n",
    "\n",
    "        # Generate user IDs\n",
    "        user_ids = []\n",
    "        for _ in range(num_ids):\n",
    "            user_id = ''.join(random.choices(string.digits + string.ascii_uppercase, k=num_characters))\n",
    "            user_ids.append(user_id)\n",
    "\n",
    "        return user_ids\n",
    "\n",
    "    except ValueError:\n",
    "        print(\"Invalid input. Please enter valid integers.\")\n",
    "\n",
    "# Example of usage\n",
    "generated_user_ids = user_id_gen_by_user()\n",
    "print(\"Generated User IDs:\", generated_user_ids)\n",
    "\n",
    "\n"
   ]
  },
  {
   "cell_type": "code",
   "execution_count": 57,
   "metadata": {},
   "outputs": [
    {
     "name": "stdout",
     "output_type": "stream",
     "text": [
      "(78, 106, 175)\n"
     ]
    }
   ],
   "source": [
    "# 3) Write a function named rgb_color_gen. It will generate rgb colors (3 values ranging from 0 to 255 each).\n",
    "\n",
    "import random\n",
    "import string\n",
    "\n",
    "def rgb_color_gen ():\n",
    "    red = random.randint(0,250)\n",
    "    blue = random.randint(0,250)\n",
    "    green = random.randint(0,250)\n",
    "    return  red, blue, green\n",
    "\n",
    "\n",
    "print(rgb_color_gen())\n",
    "# rgb(125,244,255) - the output should be in this form"
   ]
  },
  {
   "cell_type": "code",
   "execution_count": 63,
   "metadata": {},
   "outputs": [
    {
     "name": "stdout",
     "output_type": "stream",
     "text": [
      "Generated Hexadecimal Colors: ['#55EE35', '#3739C0', '#F01F27']\n"
     ]
    }
   ],
   "source": [
    "# Exercises: Level 2\n",
    "# 1) Write a function list_of_hexa_colors which returns any number of hexadecimal colors in an array (six hexadecimal numbers written after #. Hexadecimal numeral system is made out of 16 symbols, 0-9 and first 6 letters of the alphabet, a-f. Check the task 6 for output examples).\n",
    "\n",
    "import random\n",
    "\n",
    "def list_of_hexa_colors(num_colors):\n",
    "    # Generate num_colors random hexadecimal colors\n",
    "    hex_colors = ['#' + ''.join(random.choices('0123456789ABCDEF', k=6)) for _ in range(num_colors)]\n",
    "    \n",
    "    return hex_colors\n",
    "\n",
    "# Example of usage\n",
    "number_of_colors = 3\n",
    "generated_colors = list_of_hexa_colors(number_of_colors)\n",
    "print(\"Generated Hexadecimal Colors:\", generated_colors)\n",
    "\n",
    "\n"
   ]
  },
  {
   "cell_type": "code",
   "execution_count": 69,
   "metadata": {},
   "outputs": [
    {
     "name": "stdout",
     "output_type": "stream",
     "text": [
      "[(123, 214, 221), (49, 13, 82), (100, 122, 202)]\n"
     ]
    }
   ],
   "source": [
    "# 2) Write a function list_of_rgb_colors which returns any number of RGB colors in an array.\n",
    "\n",
    "import random\n",
    "\n",
    "def list_of_rgb_colors (num_colors):\n",
    "    # Generate num_colors random RGB colors\n",
    "    rgb_colors = [(random.randint(0,250), random.randint(0,250),random.randint(0,250)) for _ in range(num_colors)]\n",
    "    return(rgb_colors)\n",
    "\n",
    "print(list_of_rgb_colors(3))\n",
    "\n"
   ]
  },
  {
   "cell_type": "code",
   "execution_count": 71,
   "metadata": {},
   "outputs": [
    {
     "name": "stdout",
     "output_type": "stream",
     "text": [
      "Generated Hexadecimal Colors: ['#6C4DEF', '#5629C2', '#33B5DC', '#5C0F84', '#95BC49']\n",
      "Generated RGB Colors: [(226, 115, 234), (247, 208, 17), (69, 141, 247), (122, 51, 120), (211, 153, 4)]\n"
     ]
    }
   ],
   "source": [
    "# 3) Write a function generate_colors which can generate any number of hexa or rgb colors.\n",
    "\n",
    "import random\n",
    "\n",
    "def generate_colors(num_colors, color_format='hex'):\n",
    "    colors = []\n",
    "\n",
    "    if color_format == 'hex':\n",
    "        # Generate num_colors random hexadecimal colors\n",
    "        colors = ['#' + ''.join(random.choices('0123456789ABCDEF', k=6)) for _ in range(num_colors)]\n",
    "    elif color_format == 'rgb':\n",
    "        # Generate num_colors random RGB colors\n",
    "        colors = [(random.randint(0, 255), random.randint(0, 255), random.randint(0, 255)) for _ in range(num_colors)]\n",
    "    else:\n",
    "        print(\"Invalid color format. Supported formats are 'hex' and 'rgb'.\")\n",
    "\n",
    "    return colors\n",
    "\n",
    "# Example of usage\n",
    "number_of_colors = 5\n",
    "hex_colors = generate_colors(number_of_colors, color_format='hex')\n",
    "rgb_colors = generate_colors(number_of_colors, color_format='rgb')\n",
    "\n",
    "print(\"Generated Hexadecimal Colors:\", hex_colors)\n",
    "print(\"Generated RGB Colors:\", rgb_colors)\n"
   ]
  },
  {
   "cell_type": "markdown",
   "metadata": {},
   "source": [
    "# Exercises: Level 3\n"
   ]
  },
  {
   "cell_type": "code",
   "execution_count": 72,
   "metadata": {},
   "outputs": [
    {
     "name": "stdout",
     "output_type": "stream",
     "text": [
      "Original List: [1, 2, 3, 4, 5]\n",
      "Shuffled List: [1, 5, 2, 3, 4]\n"
     ]
    }
   ],
   "source": [
    "# 1) Call your function shuffle_list, it takes a list as a parameter and it returns a shuffled list\n",
    "\n",
    "import random\n",
    "\n",
    "def shuffle_list(input_list):\n",
    "    shuffled_list = input_list.copy()  # Create a copy to avoid modifying the original list\n",
    "    random.shuffle(shuffled_list)\n",
    "    return shuffled_list\n",
    "\n",
    "# Example of usage\n",
    "original_list = [1, 2, 3, 4, 5]\n",
    "shuffled_result = shuffle_list(original_list)\n",
    "\n",
    "print(\"Original List:\", original_list)\n",
    "print(\"Shuffled List:\", shuffled_result)\n"
   ]
  },
  {
   "cell_type": "code",
   "execution_count": 77,
   "metadata": {},
   "outputs": [
    {
     "name": "stdout",
     "output_type": "stream",
     "text": [
      "Generated Unique Random Numbers: [9, 3, 4, 0, 8, 7, 6]\n"
     ]
    }
   ],
   "source": [
    "# 2) Write a function which returns an array of seven random numbers in a range of 0-9. All the numbers must be unique.\n",
    "import random\n",
    "\n",
    "def generate_unique_random_numbers():\n",
    "    unique_numbers = random.sample(range(10), 7)\n",
    "    return unique_numbers\n",
    "\n",
    "# Example of usage\n",
    "random_numbers = generate_unique_random_numbers()\n",
    "print(\"Generated Unique Random Numbers:\", random_numbers)\n"
   ]
  }
 ],
 "metadata": {
  "kernelspec": {
   "display_name": "Python 3",
   "language": "python",
   "name": "python3"
  },
  "language_info": {
   "codemirror_mode": {
    "name": "ipython",
    "version": 3
   },
   "file_extension": ".py",
   "mimetype": "text/x-python",
   "name": "python",
   "nbconvert_exporter": "python",
   "pygments_lexer": "ipython3",
   "version": "3.12.0"
  }
 },
 "nbformat": 4,
 "nbformat_minor": 2
}
