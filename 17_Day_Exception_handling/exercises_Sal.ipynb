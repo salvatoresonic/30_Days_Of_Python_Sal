{
 "cells": [
  {
   "cell_type": "markdown",
   "metadata": {},
   "source": [
    "# Exercises: Day 17\n"
   ]
  },
  {
   "cell_type": "code",
   "execution_count": 9,
   "metadata": {},
   "outputs": [
    {
     "name": "stdout",
     "output_type": "stream",
     "text": [
      "['Finland', 'Sweden', 'Norway', 'Denmark', 'Iceland']\n",
      "Estonia Russia\n"
     ]
    }
   ],
   "source": [
    "# Unpack the first five countries and store them in a variable nordic_countries, store Estonia and Russia in es, and ru respectively.\n",
    "\n",
    "names = ['Finland', 'Sweden', 'Norway','Denmark','Iceland', 'Estonia','Russia']\n",
    "nordic_countries = names[0:5]\n",
    "print(nordic_countries)\n",
    "es = names[5]\n",
    "ru = names[6]\n",
    "print(es, ru)"
   ]
  }
 ],
 "metadata": {
  "kernelspec": {
   "display_name": "Python 3",
   "language": "python",
   "name": "python3"
  },
  "language_info": {
   "codemirror_mode": {
    "name": "ipython",
    "version": 3
   },
   "file_extension": ".py",
   "mimetype": "text/x-python",
   "name": "python",
   "nbconvert_exporter": "python",
   "pygments_lexer": "ipython3",
   "version": "3.12.1"
  }
 },
 "nbformat": 4,
 "nbformat_minor": 2
}
